{
 "cells": [
  {
   "cell_type": "code",
   "execution_count": 9,
   "id": "bdd0e81f-cf6b-48a5-a5ed-4534f1727313",
   "metadata": {},
   "outputs": [],
   "source": [
    "import pandas as pd\n",
    "import numpy as np\n",
    "import plotly.express as px\n",
    "import plotly.io as pio\n",
    "import matplotlib.pyplot as plt\n",
    "import seaborn as sns\n",
    "import nltk\n",
    "import webbrowser\n",
    "import os"
   ]
  },
  {
   "cell_type": "code",
   "execution_count": 10,
   "id": "f9220f59-22ec-4a27-a201-1fe935bea9ca",
   "metadata": {},
   "outputs": [
    {
     "name": "stderr",
     "output_type": "stream",
     "text": [
      "[nltk_data] Downloading package vader_lexicon to\n",
      "[nltk_data]     C:\\Users\\anami\\AppData\\Roaming\\nltk_data...\n",
      "[nltk_data]   Package vader_lexicon is already up-to-date!\n"
     ]
    },
    {
     "data": {
      "text/plain": [
       "True"
      ]
     },
     "execution_count": 10,
     "metadata": {},
     "output_type": "execute_result"
    }
   ],
   "source": [
    "nltk.download('vader_lexicon')"
   ]
  },
  {
   "cell_type": "code",
   "execution_count": 11,
   "id": "1ad7ae3f-c098-4918-8b66-0d3848e74899",
   "metadata": {},
   "outputs": [],
   "source": [
    "#loading the dataset\n",
    "app_df=pd.read_csv('Play Store Data.csv')\n",
    "rev_df=pd.read_csv('User Reviews.csv')"
   ]
  },
  {
   "cell_type": "code",
   "execution_count": 12,
   "id": "2028acfc-d37c-4761-bbb5-b52617c9c817",
   "metadata": {},
   "outputs": [
    {
     "data": {
      "text/html": [
       "<div>\n",
       "<style scoped>\n",
       "    .dataframe tbody tr th:only-of-type {\n",
       "        vertical-align: middle;\n",
       "    }\n",
       "\n",
       "    .dataframe tbody tr th {\n",
       "        vertical-align: top;\n",
       "    }\n",
       "\n",
       "    .dataframe thead th {\n",
       "        text-align: right;\n",
       "    }\n",
       "</style>\n",
       "<table border=\"1\" class=\"dataframe\">\n",
       "  <thead>\n",
       "    <tr style=\"text-align: right;\">\n",
       "      <th></th>\n",
       "      <th>App</th>\n",
       "      <th>Category</th>\n",
       "      <th>Rating</th>\n",
       "      <th>Reviews</th>\n",
       "      <th>Size</th>\n",
       "      <th>Installs</th>\n",
       "      <th>Type</th>\n",
       "      <th>Price</th>\n",
       "      <th>Content Rating</th>\n",
       "      <th>Genres</th>\n",
       "      <th>Last Updated</th>\n",
       "      <th>Current Ver</th>\n",
       "      <th>Android Ver</th>\n",
       "    </tr>\n",
       "  </thead>\n",
       "  <tbody>\n",
       "    <tr>\n",
       "      <th>0</th>\n",
       "      <td>Photo Editor &amp; Candy Camera &amp; Grid &amp; ScrapBook</td>\n",
       "      <td>ART_AND_DESIGN</td>\n",
       "      <td>4.1</td>\n",
       "      <td>159</td>\n",
       "      <td>19M</td>\n",
       "      <td>10,000+</td>\n",
       "      <td>Free</td>\n",
       "      <td>0</td>\n",
       "      <td>Everyone</td>\n",
       "      <td>Art &amp; Design</td>\n",
       "      <td>January 7, 2018</td>\n",
       "      <td>1.0.0</td>\n",
       "      <td>4.0.3 and up</td>\n",
       "    </tr>\n",
       "    <tr>\n",
       "      <th>1</th>\n",
       "      <td>Coloring book moana</td>\n",
       "      <td>ART_AND_DESIGN</td>\n",
       "      <td>3.9</td>\n",
       "      <td>967</td>\n",
       "      <td>14M</td>\n",
       "      <td>500,000+</td>\n",
       "      <td>Free</td>\n",
       "      <td>0</td>\n",
       "      <td>Everyone</td>\n",
       "      <td>Art &amp; Design;Pretend Play</td>\n",
       "      <td>January 15, 2018</td>\n",
       "      <td>2.0.0</td>\n",
       "      <td>4.0.3 and up</td>\n",
       "    </tr>\n",
       "    <tr>\n",
       "      <th>2</th>\n",
       "      <td>U Launcher Lite – FREE Live Cool Themes, Hide ...</td>\n",
       "      <td>ART_AND_DESIGN</td>\n",
       "      <td>4.7</td>\n",
       "      <td>87510</td>\n",
       "      <td>8.7M</td>\n",
       "      <td>5,000,000+</td>\n",
       "      <td>Free</td>\n",
       "      <td>0</td>\n",
       "      <td>Everyone</td>\n",
       "      <td>Art &amp; Design</td>\n",
       "      <td>August 1, 2018</td>\n",
       "      <td>1.2.4</td>\n",
       "      <td>4.0.3 and up</td>\n",
       "    </tr>\n",
       "    <tr>\n",
       "      <th>3</th>\n",
       "      <td>Sketch - Draw &amp; Paint</td>\n",
       "      <td>ART_AND_DESIGN</td>\n",
       "      <td>4.5</td>\n",
       "      <td>215644</td>\n",
       "      <td>25M</td>\n",
       "      <td>50,000,000+</td>\n",
       "      <td>Free</td>\n",
       "      <td>0</td>\n",
       "      <td>Teen</td>\n",
       "      <td>Art &amp; Design</td>\n",
       "      <td>June 8, 2018</td>\n",
       "      <td>Varies with device</td>\n",
       "      <td>4.2 and up</td>\n",
       "    </tr>\n",
       "    <tr>\n",
       "      <th>4</th>\n",
       "      <td>Pixel Draw - Number Art Coloring Book</td>\n",
       "      <td>ART_AND_DESIGN</td>\n",
       "      <td>4.3</td>\n",
       "      <td>967</td>\n",
       "      <td>2.8M</td>\n",
       "      <td>100,000+</td>\n",
       "      <td>Free</td>\n",
       "      <td>0</td>\n",
       "      <td>Everyone</td>\n",
       "      <td>Art &amp; Design;Creativity</td>\n",
       "      <td>June 20, 2018</td>\n",
       "      <td>1.1</td>\n",
       "      <td>4.4 and up</td>\n",
       "    </tr>\n",
       "  </tbody>\n",
       "</table>\n",
       "</div>"
      ],
      "text/plain": [
       "                                                 App        Category  Rating  \\\n",
       "0     Photo Editor & Candy Camera & Grid & ScrapBook  ART_AND_DESIGN     4.1   \n",
       "1                                Coloring book moana  ART_AND_DESIGN     3.9   \n",
       "2  U Launcher Lite – FREE Live Cool Themes, Hide ...  ART_AND_DESIGN     4.7   \n",
       "3                              Sketch - Draw & Paint  ART_AND_DESIGN     4.5   \n",
       "4              Pixel Draw - Number Art Coloring Book  ART_AND_DESIGN     4.3   \n",
       "\n",
       "  Reviews  Size     Installs  Type Price Content Rating  \\\n",
       "0     159   19M      10,000+  Free     0       Everyone   \n",
       "1     967   14M     500,000+  Free     0       Everyone   \n",
       "2   87510  8.7M   5,000,000+  Free     0       Everyone   \n",
       "3  215644   25M  50,000,000+  Free     0           Teen   \n",
       "4     967  2.8M     100,000+  Free     0       Everyone   \n",
       "\n",
       "                      Genres      Last Updated         Current Ver  \\\n",
       "0               Art & Design   January 7, 2018               1.0.0   \n",
       "1  Art & Design;Pretend Play  January 15, 2018               2.0.0   \n",
       "2               Art & Design    August 1, 2018               1.2.4   \n",
       "3               Art & Design      June 8, 2018  Varies with device   \n",
       "4    Art & Design;Creativity     June 20, 2018                 1.1   \n",
       "\n",
       "    Android Ver  \n",
       "0  4.0.3 and up  \n",
       "1  4.0.3 and up  \n",
       "2  4.0.3 and up  \n",
       "3    4.2 and up  \n",
       "4    4.4 and up  "
      ]
     },
     "execution_count": 12,
     "metadata": {},
     "output_type": "execute_result"
    }
   ],
   "source": [
    "app_df.head()"
   ]
  },
  {
   "cell_type": "code",
   "execution_count": 13,
   "id": "72379955-2366-4ebf-9ef3-d9ffeb335f79",
   "metadata": {},
   "outputs": [
    {
     "data": {
      "text/html": [
       "<div>\n",
       "<style scoped>\n",
       "    .dataframe tbody tr th:only-of-type {\n",
       "        vertical-align: middle;\n",
       "    }\n",
       "\n",
       "    .dataframe tbody tr th {\n",
       "        vertical-align: top;\n",
       "    }\n",
       "\n",
       "    .dataframe thead th {\n",
       "        text-align: right;\n",
       "    }\n",
       "</style>\n",
       "<table border=\"1\" class=\"dataframe\">\n",
       "  <thead>\n",
       "    <tr style=\"text-align: right;\">\n",
       "      <th></th>\n",
       "      <th>App</th>\n",
       "      <th>Translated_Review</th>\n",
       "      <th>Sentiment</th>\n",
       "      <th>Sentiment_Polarity</th>\n",
       "      <th>Sentiment_Subjectivity</th>\n",
       "    </tr>\n",
       "  </thead>\n",
       "  <tbody>\n",
       "    <tr>\n",
       "      <th>64290</th>\n",
       "      <td>Houzz Interior Design Ideas</td>\n",
       "      <td>NaN</td>\n",
       "      <td>NaN</td>\n",
       "      <td>NaN</td>\n",
       "      <td>NaN</td>\n",
       "    </tr>\n",
       "    <tr>\n",
       "      <th>64291</th>\n",
       "      <td>Houzz Interior Design Ideas</td>\n",
       "      <td>NaN</td>\n",
       "      <td>NaN</td>\n",
       "      <td>NaN</td>\n",
       "      <td>NaN</td>\n",
       "    </tr>\n",
       "    <tr>\n",
       "      <th>64292</th>\n",
       "      <td>Houzz Interior Design Ideas</td>\n",
       "      <td>NaN</td>\n",
       "      <td>NaN</td>\n",
       "      <td>NaN</td>\n",
       "      <td>NaN</td>\n",
       "    </tr>\n",
       "    <tr>\n",
       "      <th>64293</th>\n",
       "      <td>Houzz Interior Design Ideas</td>\n",
       "      <td>NaN</td>\n",
       "      <td>NaN</td>\n",
       "      <td>NaN</td>\n",
       "      <td>NaN</td>\n",
       "    </tr>\n",
       "    <tr>\n",
       "      <th>64294</th>\n",
       "      <td>Houzz Interior Design Ideas</td>\n",
       "      <td>NaN</td>\n",
       "      <td>NaN</td>\n",
       "      <td>NaN</td>\n",
       "      <td>NaN</td>\n",
       "    </tr>\n",
       "  </tbody>\n",
       "</table>\n",
       "</div>"
      ],
      "text/plain": [
       "                               App Translated_Review Sentiment  \\\n",
       "64290  Houzz Interior Design Ideas               NaN       NaN   \n",
       "64291  Houzz Interior Design Ideas               NaN       NaN   \n",
       "64292  Houzz Interior Design Ideas               NaN       NaN   \n",
       "64293  Houzz Interior Design Ideas               NaN       NaN   \n",
       "64294  Houzz Interior Design Ideas               NaN       NaN   \n",
       "\n",
       "       Sentiment_Polarity  Sentiment_Subjectivity  \n",
       "64290                 NaN                     NaN  \n",
       "64291                 NaN                     NaN  \n",
       "64292                 NaN                     NaN  \n",
       "64293                 NaN                     NaN  \n",
       "64294                 NaN                     NaN  "
      ]
     },
     "execution_count": 13,
     "metadata": {},
     "output_type": "execute_result"
    }
   ],
   "source": [
    "rev_df.tail()"
   ]
  },
  {
   "cell_type": "code",
   "execution_count": 14,
   "id": "b1547daa-4f28-43b3-a7ef-6deaf321d2bb",
   "metadata": {},
   "outputs": [
    {
     "name": "stderr",
     "output_type": "stream",
     "text": [
      "C:\\Users\\anami\\AppData\\Local\\Temp\\ipykernel_6820\\2394693742.py:4: FutureWarning: A value is trying to be set on a copy of a DataFrame or Series through chained assignment using an inplace method.\n",
      "The behavior will change in pandas 3.0. This inplace method will never work because the intermediate object on which we are setting values always behaves as a copy.\n",
      "\n",
      "For example, when doing 'df[col].method(value, inplace=True)', try using 'df.method({col: value}, inplace=True)' or df[col] = df[col].method(value) instead, to perform the operation inplace on the original object.\n",
      "\n",
      "\n",
      "  app_df[column].fillna(app_df[column].mode()[0], inplace=True)\n"
     ]
    }
   ],
   "source": [
    "#data cleaning\n",
    "app_df = app_df.dropna(subset=['Rating'])\n",
    "for column in app_df.columns:\n",
    "    app_df[column].fillna(app_df[column].mode()[0], inplace=True)\n",
    "app_df.drop_duplicates(inplace=True)\n",
    "app_df = app_df[app_df['Rating'] <= 5]\n",
    "rev_df.dropna(subset=['Translated_Review'], inplace=True)"
   ]
  },
  {
   "cell_type": "code",
   "execution_count": 15,
   "id": "50c02422-5077-4018-9999-960623f6dacf",
   "metadata": {},
   "outputs": [],
   "source": [
    "# Merging datasets on App \n",
    "merged_df = pd.merge(app_df, rev_df, on='App', how='inner')"
   ]
  },
  {
   "cell_type": "code",
   "execution_count": 16,
   "id": "038d12e6-c4d0-4765-9152-b6ab321b19a9",
   "metadata": {},
   "outputs": [
    {
     "name": "stdout",
     "output_type": "stream",
     "text": [
      "<class 'pandas.core.frame.DataFrame'>\n",
      "Index: 8892 entries, 0 to 10840\n",
      "Data columns (total 13 columns):\n",
      " #   Column          Non-Null Count  Dtype  \n",
      "---  ------          --------------  -----  \n",
      " 0   App             8892 non-null   object \n",
      " 1   Category        8892 non-null   object \n",
      " 2   Rating          8892 non-null   float64\n",
      " 3   Reviews         8892 non-null   object \n",
      " 4   Size            8892 non-null   object \n",
      " 5   Installs        8892 non-null   object \n",
      " 6   Type            8892 non-null   object \n",
      " 7   Price           8892 non-null   object \n",
      " 8   Content Rating  8892 non-null   object \n",
      " 9   Genres          8892 non-null   object \n",
      " 10  Last Updated    8892 non-null   object \n",
      " 11  Current Ver     8892 non-null   object \n",
      " 12  Android Ver     8892 non-null   object \n",
      "dtypes: float64(1), object(12)\n",
      "memory usage: 972.6+ KB\n"
     ]
    }
   ],
   "source": [
    "app_df.info()"
   ]
  },
  {
   "cell_type": "code",
   "execution_count": 17,
   "id": "906e70dc-565b-461f-8c5d-004e0693738a",
   "metadata": {},
   "outputs": [],
   "source": [
    "#data tranformation\n",
    "#convverting reviews to integers \n",
    "app_df['Reviews'] = app_df['Reviews'].str.replace(',', \"\")\n",
    "\n",
    "#cleaning installs col\n",
    "app_df['Installs'] = app_df['Installs'].astype(str).str.replace(',', '').str.replace('+', '').str.strip()\n",
    "app_df['Installs'] = pd.to_numeric(app_df['Installs'], errors='coerce').fillna(0).astype(int)\n",
    "\n",
    "# coverting price col to float\n",
    "app_df['Price'] = app_df['Price'].astype(str).str.replace('$', '').str.strip()\n",
    "app_df['Price'] = pd.to_numeric(app_df['Price'], errors='coerce').fillna(0.0).astype(float)"
   ]
  },
  {
   "cell_type": "code",
   "execution_count": 18,
   "id": "7cef04d0-1002-4519-ba9d-3c9ceb8bee78",
   "metadata": {},
   "outputs": [],
   "source": [
    "# converting to mb so that data will be uniformed \n",
    "def converting_size(size):\n",
    "    size = str(size)\n",
    "    if \"M\" in size:\n",
    "        return float(size.replace(\"M\", \"\"))\n",
    "    elif \"k\" in size:\n",
    "        return float(size.replace(\"k\", \"\")) / 1024\n",
    "    else:\n",
    "        return np.nan \n",
    "\n",
    "app_df['Size'] = app_df['Size'].apply(converting_size)"
   ]
  },
  {
   "cell_type": "code",
   "execution_count": 19,
   "id": "5366b00c-c3e1-4d01-835a-adbe20423090",
   "metadata": {},
   "outputs": [],
   "source": [
    "app_df['Last Updated'] = pd.to_datetime(app_df['Last Updated'], errors='coerce')"
   ]
  },
  {
   "cell_type": "markdown",
   "id": "fc2bcc40-6a0c-43f4-bee2-0512d2ebc6d6",
   "metadata": {},
   "source": [
    "TASK 1 "
   ]
  },
  {
   "cell_type": "code",
   "execution_count": 20,
   "id": "c9ab6a9d-3dc5-437d-b9ad-1f6099ba188b",
   "metadata": {},
   "outputs": [],
   "source": [
    "paid_apps = app_df[app_df['Type'] == 'Paid'].copy()\n",
    "paid_apps = paid_apps.dropna(subset=['Installs', 'Price'])"
   ]
  },
  {
   "cell_type": "code",
   "execution_count": 21,
   "id": "164b5256-5984-4861-8c5c-c5f15c1e014d",
   "metadata": {},
   "outputs": [],
   "source": [
    "paid_apps['Revenue'] = paid_apps['Installs'] * paid_apps['Price']\n",
    "paid_apps = paid_apps.dropna(subset=['Category'])"
   ]
  },
  {
   "cell_type": "code",
   "execution_count": 64,
   "id": "776d8f3a-0f63-419a-a632-827593cee223",
   "metadata": {},
   "outputs": [
    {
     "data": {
      "application/vnd.plotly.v1+json": {
       "config": {
        "plotlyServerURL": "https://plot.ly"
       },
       "data": [
        {
         "hovertemplate": "Category=BUSINESS<br>Installs=%{x}<br>Revenue=%{y}<extra></extra>",
         "legendgroup": "BUSINESS",
         "marker": {
          "color": "#636efa",
          "symbol": "circle"
         },
         "mode": "markers",
         "name": "BUSINESS",
         "orientation": "v",
         "showlegend": true,
         "type": "scatter",
         "x": [
          100000,
          100000,
          500,
          1000,
          10000,
          1000,
          50,
          10,
          100
         ],
         "xaxis": "x",
         "y": [
          499000,
          499000,
          8995,
          3990,
          29900.000000000004,
          4990,
          449.5,
          24.900000000000002,
          1299
         ],
         "yaxis": "y"
        },
        {
         "hovertemplate": "<b>OLS trendline</b><br>Revenue = 4.99809 * Installs + -1693.85<br>R<sup>2</sup>=0.998879<br><br>Category=BUSINESS<br>Installs=%{x}<br>Revenue=%{y} <b>(trend)</b><extra></extra>",
         "legendgroup": "BUSINESS",
         "marker": {
          "color": "#636efa",
          "symbol": "circle"
         },
         "mode": "lines",
         "name": "BUSINESS",
         "showlegend": false,
         "type": "scatter",
         "x": [
          10,
          50,
          100,
          500,
          1000,
          1000,
          10000,
          100000,
          100000
         ],
         "xaxis": "x",
         "y": [
          -1643.8680649736177,
          -1443.9446115070398,
          -1194.0402946738172,
          805.1942399919635,
          3304.2374083241893,
          3304.2374083241893,
          48287.01443830426,
          498114.7847381049,
          498114.7847381049
         ],
         "yaxis": "y"
        },
        {
         "hovertemplate": "Category=COMMUNICATION<br>Installs=%{x}<br>Revenue=%{y}<extra></extra>",
         "legendgroup": "COMMUNICATION",
         "marker": {
          "color": "#EF553B",
          "symbol": "circle"
         },
         "mode": "markers",
         "name": "COMMUNICATION",
         "orientation": "v",
         "showlegend": true,
         "type": "scatter",
         "x": [
          100000,
          500,
          10000,
          500,
          500,
          1000000,
          100,
          1000,
          100,
          100,
          5000,
          100,
          100,
          10000,
          5000,
          1000,
          100000,
          5000,
          100000,
          10000,
          10000,
          1000
         ],
         "xaxis": "x",
         "y": [
          399000,
          1995,
          49900,
          495,
          2495,
          2990000,
          149,
          990,
          149,
          149,
          24950,
          99,
          149,
          29900.000000000004,
          4950,
          2490,
          290000,
          7450,
          399000,
          29900.000000000004,
          9900,
          2990
         ],
         "yaxis": "y"
        },
        {
         "hovertemplate": "<b>OLS trendline</b><br>Revenue = 2.99834 * Installs + 7698.29<br>R<sup>2</sup>=0.997702<br><br>Category=COMMUNICATION<br>Installs=%{x}<br>Revenue=%{y} <b>(trend)</b><extra></extra>",
         "legendgroup": "COMMUNICATION",
         "marker": {
          "color": "#EF553B",
          "symbol": "circle"
         },
         "mode": "lines",
         "name": "COMMUNICATION",
         "showlegend": false,
         "type": "scatter",
         "x": [
          100,
          100,
          100,
          100,
          100,
          500,
          500,
          500,
          1000,
          1000,
          1000,
          5000,
          5000,
          5000,
          10000,
          10000,
          10000,
          10000,
          100000,
          100000,
          100000,
          1000000
         ],
         "xaxis": "x",
         "y": [
          7998.12858921948,
          7998.12858921948,
          7998.12858921948,
          7998.12858921948,
          7998.12858921948,
          9197.463151316158,
          9197.463151316158,
          9197.463151316158,
          10696.631353937004,
          10696.631353937004,
          10696.631353937004,
          22689.976974903777,
          22689.976974903777,
          22689.976974903777,
          37681.659001112246,
          37681.659001112246,
          37681.659001112246,
          37681.659001112246,
          307531.9354728646,
          307531.9354728646,
          307531.9354728646,
          3006034.7001903886
         ],
         "yaxis": "y"
        },
        {
         "hovertemplate": "Category=DATING<br>Installs=%{x}<br>Revenue=%{y}<extra></extra>",
         "legendgroup": "DATING",
         "marker": {
          "color": "#00cc96",
          "symbol": "circle"
         },
         "mode": "markers",
         "name": "DATING",
         "orientation": "v",
         "showlegend": true,
         "type": "scatter",
         "x": [
          10000,
          1000,
          100,
          10000
         ],
         "xaxis": "x",
         "y": [
          39900,
          6990,
          799,
          39900
         ],
         "yaxis": "y"
        },
        {
         "hovertemplate": "<b>OLS trendline</b><br>Revenue = 3.82396 * Installs + 1725.86<br>R<sup>2</sup>=0.997114<br><br>Category=DATING<br>Installs=%{x}<br>Revenue=%{y} <b>(trend)</b><extra></extra>",
         "legendgroup": "DATING",
         "marker": {
          "color": "#00cc96",
          "symbol": "circle"
         },
         "mode": "lines",
         "name": "DATING",
         "showlegend": false,
         "type": "scatter",
         "x": [
          100,
          1000,
          10000,
          10000
         ],
         "xaxis": "x",
         "y": [
          2108.255079006776,
          5549.819413092554,
          39965.46275395033,
          39965.46275395033
         ],
         "yaxis": "y"
        },
        {
         "hovertemplate": "Category=EDUCATION<br>Installs=%{x}<br>Revenue=%{y}<extra></extra>",
         "legendgroup": "EDUCATION",
         "marker": {
          "color": "#ab63fa",
          "symbol": "circle"
         },
         "mode": "markers",
         "name": "EDUCATION",
         "orientation": "v",
         "showlegend": true,
         "type": "scatter",
         "x": [
          1000,
          1000,
          500000,
          100000
         ],
         "xaxis": "x",
         "y": [
          3990,
          5990,
          1995000,
          399000
         ],
         "yaxis": "y"
        },
        {
         "hovertemplate": "<b>OLS trendline</b><br>Revenue = 3.98823 * Installs + 765.639<br>R<sup>2</sup>=0.999999<br><br>Category=EDUCATION<br>Installs=%{x}<br>Revenue=%{y} <b>(trend)</b><extra></extra>",
         "legendgroup": "EDUCATION",
         "marker": {
          "color": "#ab63fa",
          "symbol": "circle"
         },
         "mode": "lines",
         "name": "EDUCATION",
         "showlegend": false,
         "type": "scatter",
         "x": [
          1000,
          1000,
          100000,
          500000
         ],
         "xaxis": "x",
         "y": [
          4753.873885042054,
          4753.873885042054,
          399589.1346568201,
          1994883.1175730953
         ],
         "yaxis": "y"
        },
        {
         "hovertemplate": "Category=ENTERTAINMENT<br>Installs=%{x}<br>Revenue=%{y}<extra></extra>",
         "legendgroup": "ENTERTAINMENT",
         "marker": {
          "color": "#FFA15A",
          "symbol": "circle"
         },
         "mode": "markers",
         "name": "ENTERTAINMENT",
         "orientation": "v",
         "showlegend": true,
         "type": "scatter",
         "x": [
          100000,
          100000
         ],
         "xaxis": "x",
         "y": [
          499000,
          299000
         ],
         "yaxis": "y"
        },
        {
         "hovertemplate": "<b>OLS trendline</b><br>Revenue = 3.99<br>R<sup>2</sup>=0.000000<br><br>Category=ENTERTAINMENT<br>Installs=%{x}<br>Revenue=%{y} <b>(trend)</b><extra></extra>",
         "legendgroup": "ENTERTAINMENT",
         "marker": {
          "color": "#FFA15A",
          "symbol": "circle"
         },
         "mode": "lines",
         "name": "ENTERTAINMENT",
         "showlegend": false,
         "type": "scatter",
         "x": [
          100000,
          100000
         ],
         "xaxis": "x",
         "y": [
          398999.99999999994,
          398999.99999999994
         ],
         "yaxis": "y"
        },
        {
         "hovertemplate": "Category=FOOD_AND_DRINK<br>Installs=%{x}<br>Revenue=%{y}<extra></extra>",
         "legendgroup": "FOOD_AND_DRINK",
         "marker": {
          "color": "#19d3f3",
          "symbol": "circle"
         },
         "mode": "markers",
         "name": "FOOD_AND_DRINK",
         "orientation": "v",
         "showlegend": true,
         "type": "scatter",
         "x": [
          10000,
          50000
         ],
         "xaxis": "x",
         "y": [
          34900,
          249500
         ],
         "yaxis": "y"
        },
        {
         "hovertemplate": "<b>OLS trendline</b><br>Revenue = 5.365 * Installs + -18750<br>R<sup>2</sup>=1.000000<br><br>Category=FOOD_AND_DRINK<br>Installs=%{x}<br>Revenue=%{y} <b>(trend)</b><extra></extra>",
         "legendgroup": "FOOD_AND_DRINK",
         "marker": {
          "color": "#19d3f3",
          "symbol": "circle"
         },
         "mode": "lines",
         "name": "FOOD_AND_DRINK",
         "showlegend": false,
         "type": "scatter",
         "x": [
          10000,
          50000
         ],
         "xaxis": "x",
         "y": [
          34900.000000000015,
          249500
         ],
         "yaxis": "y"
        },
        {
         "hovertemplate": "Category=HEALTH_AND_FITNESS<br>Installs=%{x}<br>Revenue=%{y}<extra></extra>",
         "legendgroup": "HEALTH_AND_FITNESS",
         "marker": {
          "color": "#FF6692",
          "symbol": "circle"
         },
         "mode": "markers",
         "name": "HEALTH_AND_FITNESS",
         "orientation": "v",
         "showlegend": true,
         "type": "scatter",
         "x": [
          100000,
          10000,
          100000,
          50000,
          50000,
          50000,
          1000,
          100000,
          1000,
          10000,
          1000
         ],
         "xaxis": "x",
         "y": [
          299000,
          39900,
          299000,
          99500,
          149500,
          99500,
          1990,
          349000,
          4990,
          69900,
          7990
         ],
         "yaxis": "y"
        },
        {
         "hovertemplate": "<b>OLS trendline</b><br>Revenue = 3.00428 * Installs + -68.6897<br>R<sup>2</sup>=0.944420<br><br>Category=HEALTH_AND_FITNESS<br>Installs=%{x}<br>Revenue=%{y} <b>(trend)</b><extra></extra>",
         "legendgroup": "HEALTH_AND_FITNESS",
         "marker": {
          "color": "#FF6692",
          "symbol": "circle"
         },
         "mode": "lines",
         "name": "HEALTH_AND_FITNESS",
         "showlegend": false,
         "type": "scatter",
         "x": [
          1000,
          1000,
          1000,
          10000,
          10000,
          50000,
          50000,
          50000,
          100000,
          100000,
          100000
         ],
         "xaxis": "x",
         "y": [
          2935.5927624552187,
          2935.5927624552187,
          2935.5927624552187,
          29974.13457309793,
          29974.13457309793,
          150145.43150928777,
          150145.43150928777,
          150145.43150928777,
          300359.55267952505,
          300359.55267952505,
          300359.55267952505
         ],
         "yaxis": "y"
        },
        {
         "hovertemplate": "Category=GAME<br>Installs=%{x}<br>Revenue=%{y}<extra></extra>",
         "legendgroup": "GAME",
         "marker": {
          "color": "#B6E880",
          "symbol": "circle"
         },
         "mode": "markers",
         "name": "GAME",
         "orientation": "v",
         "showlegend": true,
         "type": "scatter",
         "x": [
          100000,
          100000,
          100000,
          100000,
          100000,
          100000,
          100000,
          100000,
          100000,
          100,
          1000,
          10000000,
          10000,
          1000,
          10000,
          1000,
          1000,
          5000,
          10000,
          50000,
          100000,
          100000,
          10000,
          1000,
          50000,
          1000000,
          500000,
          1000,
          100000,
          50000,
          10000,
          1000,
          1000000,
          100000,
          100000,
          100000,
          1,
          1000,
          50000,
          10000,
          500,
          100,
          10000,
          5000,
          1000,
          100000,
          1000,
          10000,
          1000000,
          100,
          10,
          50000,
          10000,
          1000,
          100,
          100000,
          100,
          1000000,
          100000,
          10000,
          10000,
          50,
          1000000,
          1000000,
          1000000,
          1000,
          1000,
          100000,
          5000,
          100000,
          100000,
          100,
          100,
          100000,
          1000000,
          1,
          10000
         ],
         "xaxis": "x",
         "y": [
          299000,
          199000,
          499000,
          499000,
          499000,
          599000,
          699000,
          999000,
          499000,
          99,
          1990,
          9900000,
          179899.99999999997,
          4990,
          9900,
          990,
          2490,
          9950,
          49900,
          99500,
          199000,
          499000,
          49900,
          1610,
          49500,
          990000,
          995000,
          3990,
          99000,
          99500,
          49900,
          990,
          2990000,
          299000,
          299000,
          299000,
          1.49,
          990,
          249500,
          79900,
          2245,
          1400,
          19900,
          34950,
          6990,
          299000,
          3490,
          49900,
          6990000,
          99,
          9.9,
          249500,
          29900.000000000004,
          990,
          449,
          199000,
          499,
          4990000,
          299000,
          39900,
          29900.000000000004,
          99.5,
          990000,
          990000,
          990000,
          990,
          1990,
          299000,
          4950,
          399000,
          299000,
          99,
          199,
          299000,
          990000,
          0.99,
          169899.99999999997
         ],
         "yaxis": "y"
        },
        {
         "hovertemplate": "<b>OLS trendline</b><br>Revenue = 1.06219 * Installs + 241239<br>R<sup>2</sup>=0.684850<br><br>Category=GAME<br>Installs=%{x}<br>Revenue=%{y} <b>(trend)</b><extra></extra>",
         "legendgroup": "GAME",
         "marker": {
          "color": "#B6E880",
          "symbol": "circle"
         },
         "mode": "lines",
         "name": "GAME",
         "showlegend": false,
         "type": "scatter",
         "x": [
          1,
          1,
          10,
          50,
          100,
          100,
          100,
          100,
          100,
          100,
          100,
          500,
          1000,
          1000,
          1000,
          1000,
          1000,
          1000,
          1000,
          1000,
          1000,
          1000,
          1000,
          1000,
          1000,
          5000,
          5000,
          5000,
          10000,
          10000,
          10000,
          10000,
          10000,
          10000,
          10000,
          10000,
          10000,
          10000,
          10000,
          10000,
          50000,
          50000,
          50000,
          50000,
          50000,
          100000,
          100000,
          100000,
          100000,
          100000,
          100000,
          100000,
          100000,
          100000,
          100000,
          100000,
          100000,
          100000,
          100000,
          100000,
          100000,
          100000,
          100000,
          100000,
          100000,
          100000,
          100000,
          500000,
          1000000,
          1000000,
          1000000,
          1000000,
          1000000,
          1000000,
          1000000,
          1000000,
          10000000
         ],
         "xaxis": "x",
         "y": [
          241239.74074884795,
          241239.74074884795,
          241249.3004748554,
          241291.78814599974,
          241344.8977349302,
          241344.8977349302,
          241344.8977349302,
          241344.8977349302,
          241344.8977349302,
          241344.8977349302,
          241344.8977349302,
          241769.77444637354,
          242300.87033567778,
          242300.87033567778,
          242300.87033567778,
          242300.87033567778,
          242300.87033567778,
          242300.87033567778,
          242300.87033567778,
          242300.87033567778,
          242300.87033567778,
          242300.87033567778,
          242300.87033567778,
          242300.87033567778,
          242300.87033567778,
          246549.63745011156,
          246549.63745011156,
          246549.63745011156,
          251860.59634315383,
          251860.59634315383,
          251860.59634315383,
          251860.59634315383,
          251860.59634315383,
          251860.59634315383,
          251860.59634315383,
          251860.59634315383,
          251860.59634315383,
          251860.59634315383,
          251860.59634315383,
          251860.59634315383,
          294348.2674874918,
          294348.2674874918,
          294348.2674874918,
          294348.2674874918,
          294348.2674874918,
          347457.8564179142,
          347457.8564179142,
          347457.8564179142,
          347457.8564179142,
          347457.8564179142,
          347457.8564179142,
          347457.8564179142,
          347457.8564179142,
          347457.8564179142,
          347457.8564179142,
          347457.8564179142,
          347457.8564179142,
          347457.8564179142,
          347457.8564179142,
          347457.8564179142,
          347457.8564179142,
          347457.8564179142,
          347457.8564179142,
          347457.8564179142,
          347457.8564179142,
          347457.8564179142,
          347457.8564179142,
          772334.5678612937,
          1303430.457165518,
          1303430.457165518,
          1303430.457165518,
          1303430.457165518,
          1303430.457165518,
          1303430.457165518,
          1303430.457165518,
          1303430.457165518,
          10863156.464641558
         ],
         "yaxis": "y"
        },
        {
         "hovertemplate": "Category=FAMILY<br>Installs=%{x}<br>Revenue=%{y}<extra></extra>",
         "legendgroup": "FAMILY",
         "marker": {
          "color": "#FF97FF",
          "symbol": "circle"
         },
         "mode": "markers",
         "name": "FAMILY",
         "orientation": "v",
         "showlegend": true,
         "type": "scatter",
         "x": [
          5000,
          5000,
          1000,
          500,
          100000,
          500000,
          10000,
          10000,
          1000,
          1000,
          1000,
          100,
          100,
          1000,
          5000,
          5000,
          1000,
          10000,
          10000,
          5000,
          1000,
          10000,
          10000,
          50000,
          10000000,
          1000000,
          50000,
          100000,
          10,
          100000,
          100,
          1000000,
          500,
          1000,
          1000,
          100,
          10000000,
          5000,
          100000,
          10000,
          10000,
          100000,
          10000,
          10000,
          100,
          1000,
          100000,
          50000,
          10000,
          5000,
          10000,
          100000,
          10000,
          100000,
          50000,
          10000,
          1000,
          5000,
          5000,
          5000,
          500,
          10,
          10000,
          5000,
          10000,
          100000,
          100000,
          1000,
          100,
          100,
          10,
          10,
          500000,
          100,
          50,
          1000,
          100000,
          100,
          100000,
          50000,
          50000,
          100,
          10,
          1000,
          1000,
          1000,
          1000,
          1000000,
          5000,
          500000,
          10000,
          100,
          1000,
          50000,
          1000,
          10000,
          10,
          10000,
          100000,
          100000,
          100000,
          10000,
          10000,
          10000,
          5000,
          100,
          10,
          500,
          1000,
          100000,
          10000,
          10000,
          50000,
          10000,
          100,
          50,
          5000,
          50000,
          10000,
          100000,
          10000,
          100000,
          100000,
          100000,
          10000,
          500,
          50000,
          100000,
          50000,
          10000,
          50000,
          100000,
          50000,
          50,
          1000000,
          100000,
          10,
          100,
          50,
          10000,
          10000,
          500000,
          1000,
          10000,
          50,
          1000,
          500000,
          10000,
          1000000,
          50000,
          1000,
          500,
          50000,
          10000,
          100000,
          100000,
          100,
          10000
         ],
         "xaxis": "x",
         "y": [
          19950,
          14950.000000000002,
          3990,
          1495,
          399000,
          1995000,
          49900,
          39900,
          2990,
          7490,
          2990,
          99,
          99,
          990,
          24950,
          14950.000000000002,
          4990,
          29900.000000000004,
          49900,
          24950,
          2990,
          29900.000000000004,
          39900,
          199500,
          69900000,
          2990000,
          149500,
          299000,
          29.900000000000002,
          499000,
          39999,
          990000,
          995,
          1990,
          5990,
          399,
          69900000,
          14950.000000000002,
          299000,
          29900.000000000004,
          39900,
          299000,
          19900,
          24900.000000000004,
          149,
          4840,
          499000,
          238499.99999999997,
          49900,
          29950,
          9900,
          799000,
          149900,
          149000,
          149500,
          15900,
          990,
          24950,
          4950,
          9950,
          1245,
          49.900000000000006,
          3999900,
          1999950,
          3899900,
          299000,
          299000,
          2990,
          999,
          499,
          49.900000000000006,
          299.9,
          1495000,
          99,
          74.5,
          990,
          999000,
          399,
          499000,
          499500,
          249500,
          299,
          149.9,
          2990,
          2490,
          2490,
          2990,
          990000,
          7450,
          495000,
          29900.000000000004,
          499,
          2990,
          49500,
          19400,
          149900,
          199.89999999999998,
          39900,
          299000,
          399000,
          99000,
          19900,
          29900.000000000004,
          29900.000000000004,
          14950.000000000002,
          199,
          14.9,
          2495,
          10000,
          499000,
          29900.000000000004,
          29900.000000000004,
          249500,
          39900,
          1299,
          49.5,
          22450,
          999499.9999999999,
          99900,
          299000,
          49900,
          1499000,
          999000,
          1399000,
          29900.000000000004,
          1495,
          149500,
          199000,
          199500,
          39900,
          149500,
          299000,
          149500,
          149.5,
          2990000,
          99000,
          9.9,
          99,
          74.5,
          29900.000000000004,
          14900,
          2495000,
          10990,
          129900,
          149.5,
          1990,
          1495000,
          9900,
          1990000,
          149500,
          2990,
          995,
          249500,
          9900,
          999000,
          99000,
          199,
          12000
         ],
         "yaxis": "y"
        },
        {
         "hovertemplate": "<b>OLS trendline</b><br>Revenue = 6.87092 * Installs + -180909<br>R<sup>2</sup>=0.981391<br><br>Category=FAMILY<br>Installs=%{x}<br>Revenue=%{y} <b>(trend)</b><extra></extra>",
         "legendgroup": "FAMILY",
         "marker": {
          "color": "#FF97FF",
          "symbol": "circle"
         },
         "mode": "lines",
         "name": "FAMILY",
         "showlegend": false,
         "type": "scatter",
         "x": [
          10,
          10,
          10,
          10,
          10,
          10,
          10,
          10,
          50,
          50,
          50,
          50,
          50,
          100,
          100,
          100,
          100,
          100,
          100,
          100,
          100,
          100,
          100,
          100,
          100,
          100,
          100,
          100,
          500,
          500,
          500,
          500,
          500,
          500,
          1000,
          1000,
          1000,
          1000,
          1000,
          1000,
          1000,
          1000,
          1000,
          1000,
          1000,
          1000,
          1000,
          1000,
          1000,
          1000,
          1000,
          1000,
          1000,
          1000,
          1000,
          1000,
          1000,
          5000,
          5000,
          5000,
          5000,
          5000,
          5000,
          5000,
          5000,
          5000,
          5000,
          5000,
          5000,
          5000,
          5000,
          10000,
          10000,
          10000,
          10000,
          10000,
          10000,
          10000,
          10000,
          10000,
          10000,
          10000,
          10000,
          10000,
          10000,
          10000,
          10000,
          10000,
          10000,
          10000,
          10000,
          10000,
          10000,
          10000,
          10000,
          10000,
          10000,
          10000,
          10000,
          10000,
          10000,
          10000,
          10000,
          10000,
          10000,
          10000,
          50000,
          50000,
          50000,
          50000,
          50000,
          50000,
          50000,
          50000,
          50000,
          50000,
          50000,
          50000,
          50000,
          50000,
          50000,
          100000,
          100000,
          100000,
          100000,
          100000,
          100000,
          100000,
          100000,
          100000,
          100000,
          100000,
          100000,
          100000,
          100000,
          100000,
          100000,
          100000,
          100000,
          100000,
          100000,
          100000,
          100000,
          100000,
          100000,
          100000,
          500000,
          500000,
          500000,
          500000,
          500000,
          1000000,
          1000000,
          1000000,
          1000000,
          1000000,
          10000000,
          10000000
         ],
         "xaxis": "x",
         "y": [
          -180840.05557524267,
          -180840.05557524267,
          -180840.05557524267,
          -180840.05557524267,
          -180840.05557524267,
          -180840.05557524267,
          -180840.05557524267,
          -180840.05557524267,
          -180565.21866313834,
          -180565.21866313834,
          -180565.21866313834,
          -180565.21866313834,
          -180565.21866313834,
          -180221.67252300787,
          -180221.67252300787,
          -180221.67252300787,
          -180221.67252300787,
          -180221.67252300787,
          -180221.67252300787,
          -180221.67252300787,
          -180221.67252300787,
          -180221.67252300787,
          -180221.67252300787,
          -180221.67252300787,
          -180221.67252300787,
          -180221.67252300787,
          -180221.67252300787,
          -180221.67252300787,
          -177473.3034019643,
          -177473.3034019643,
          -177473.3034019643,
          -177473.3034019643,
          -177473.3034019643,
          -177473.3034019643,
          -174037.84200065985,
          -174037.84200065985,
          -174037.84200065985,
          -174037.84200065985,
          -174037.84200065985,
          -174037.84200065985,
          -174037.84200065985,
          -174037.84200065985,
          -174037.84200065985,
          -174037.84200065985,
          -174037.84200065985,
          -174037.84200065985,
          -174037.84200065985,
          -174037.84200065985,
          -174037.84200065985,
          -174037.84200065985,
          -174037.84200065985,
          -174037.84200065985,
          -174037.84200065985,
          -174037.84200065985,
          -174037.84200065985,
          -174037.84200065985,
          -174037.84200065985,
          -146554.15079022417,
          -146554.15079022417,
          -146554.15079022417,
          -146554.15079022417,
          -146554.15079022417,
          -146554.15079022417,
          -146554.15079022417,
          -146554.15079022417,
          -146554.15079022417,
          -146554.15079022417,
          -146554.15079022417,
          -146554.15079022417,
          -146554.15079022417,
          -146554.15079022417,
          -112199.53677717959,
          -112199.53677717959,
          -112199.53677717959,
          -112199.53677717959,
          -112199.53677717959,
          -112199.53677717959,
          -112199.53677717959,
          -112199.53677717959,
          -112199.53677717959,
          -112199.53677717959,
          -112199.53677717959,
          -112199.53677717959,
          -112199.53677717959,
          -112199.53677717959,
          -112199.53677717959,
          -112199.53677717959,
          -112199.53677717959,
          -112199.53677717959,
          -112199.53677717959,
          -112199.53677717959,
          -112199.53677717959,
          -112199.53677717959,
          -112199.53677717959,
          -112199.53677717959,
          -112199.53677717959,
          -112199.53677717959,
          -112199.53677717959,
          -112199.53677717959,
          -112199.53677717959,
          -112199.53677717959,
          -112199.53677717959,
          -112199.53677717959,
          -112199.53677717959,
          -112199.53677717959,
          -112199.53677717959,
          162637.3753271771,
          162637.3753271771,
          162637.3753271771,
          162637.3753271771,
          162637.3753271771,
          162637.3753271771,
          162637.3753271771,
          162637.3753271771,
          162637.3753271771,
          162637.3753271771,
          162637.3753271771,
          162637.3753271771,
          162637.3753271771,
          162637.3753271771,
          162637.3753271771,
          506183.515457623,
          506183.515457623,
          506183.515457623,
          506183.515457623,
          506183.515457623,
          506183.515457623,
          506183.515457623,
          506183.515457623,
          506183.515457623,
          506183.515457623,
          506183.515457623,
          506183.515457623,
          506183.515457623,
          506183.515457623,
          506183.515457623,
          506183.515457623,
          506183.515457623,
          506183.515457623,
          506183.515457623,
          506183.515457623,
          506183.515457623,
          506183.515457623,
          506183.515457623,
          506183.515457623,
          506183.515457623,
          3254552.6365011903,
          3254552.6365011903,
          3254552.6365011903,
          3254552.6365011903,
          3254552.6365011903,
          6690014.037805649,
          6690014.037805649,
          6690014.037805649,
          6690014.037805649,
          6690014.037805649,
          68528319.2612859,
          68528319.2612859
         ],
         "yaxis": "y"
        },
        {
         "hovertemplate": "Category=MEDICAL<br>Installs=%{x}<br>Revenue=%{y}<extra></extra>",
         "legendgroup": "MEDICAL",
         "marker": {
          "color": "#FECB52",
          "symbol": "circle"
         },
         "mode": "markers",
         "name": "MEDICAL",
         "orientation": "v",
         "showlegend": true,
         "type": "scatter",
         "x": [
          100000,
          10000,
          10000,
          10000,
          10000,
          10000,
          5000,
          5000,
          100000,
          50000,
          1000,
          10000,
          50000,
          1000,
          1000,
          10000,
          1000,
          1000,
          1000,
          100,
          5000,
          5000,
          1000,
          10000,
          1000,
          100,
          1000,
          500,
          5000,
          1000,
          500,
          1000,
          5000,
          10000,
          1000,
          10000,
          1000,
          5000,
          10000,
          1000,
          1000,
          100,
          50000,
          1000,
          1000,
          5000,
          5000,
          1000,
          10000,
          1000,
          10000,
          1000,
          1000,
          500,
          500,
          1000,
          5000,
          100,
          500,
          1000,
          1000,
          100,
          500,
          100000
         ],
         "xaxis": "x",
         "y": [
          900000,
          9900,
          54900,
          99900,
          69900,
          100000,
          19950,
          29950,
          2499000,
          599500,
          79990,
          119900,
          149500,
          16990,
          3990,
          29900.000000000004,
          9990,
          3990,
          14990,
          299,
          19950,
          14950.000000000002,
          29990,
          29900.000000000004,
          2990,
          1299,
          4990,
          1495,
          74950,
          5990,
          1745,
          990,
          12450.000000000002,
          249899.99999999997,
          10990,
          19900,
          4990,
          19950,
          29900.000000000004,
          7490,
          1500,
          299,
          199500,
          1990,
          9990,
          19950,
          19950,
          3990,
          79900,
          9990,
          39900,
          19990,
          29990,
          7995,
          495,
          33990,
          4950,
          3999,
          2995,
          5490,
          15460,
          699,
          1995,
          2499000
         ],
         "yaxis": "y"
        },
        {
         "hovertemplate": "<b>OLS trendline</b><br>Revenue = 17.3908 * Installs + -47861.3<br>R<sup>2</sup>=0.765921<br><br>Category=MEDICAL<br>Installs=%{x}<br>Revenue=%{y} <b>(trend)</b><extra></extra>",
         "legendgroup": "MEDICAL",
         "marker": {
          "color": "#FECB52",
          "symbol": "circle"
         },
         "mode": "lines",
         "name": "MEDICAL",
         "showlegend": false,
         "type": "scatter",
         "x": [
          100,
          100,
          100,
          100,
          100,
          500,
          500,
          500,
          500,
          500,
          500,
          1000,
          1000,
          1000,
          1000,
          1000,
          1000,
          1000,
          1000,
          1000,
          1000,
          1000,
          1000,
          1000,
          1000,
          1000,
          1000,
          1000,
          1000,
          1000,
          1000,
          1000,
          1000,
          1000,
          1000,
          5000,
          5000,
          5000,
          5000,
          5000,
          5000,
          5000,
          5000,
          5000,
          5000,
          10000,
          10000,
          10000,
          10000,
          10000,
          10000,
          10000,
          10000,
          10000,
          10000,
          10000,
          10000,
          10000,
          50000,
          50000,
          50000,
          100000,
          100000,
          100000
         ],
         "xaxis": "x",
         "y": [
          -46122.175825216334,
          -46122.175825216334,
          -46122.175825216334,
          -46122.175825216334,
          -46122.175825216334,
          -39165.84085190111,
          -39165.84085190111,
          -39165.84085190111,
          -39165.84085190111,
          -39165.84085190111,
          -39165.84085190111,
          -30470.422135257097,
          -30470.422135257097,
          -30470.422135257097,
          -30470.422135257097,
          -30470.422135257097,
          -30470.422135257097,
          -30470.422135257097,
          -30470.422135257097,
          -30470.422135257097,
          -30470.422135257097,
          -30470.422135257097,
          -30470.422135257097,
          -30470.422135257097,
          -30470.422135257097,
          -30470.422135257097,
          -30470.422135257097,
          -30470.422135257097,
          -30470.422135257097,
          -30470.422135257097,
          -30470.422135257097,
          -30470.422135257097,
          -30470.422135257097,
          -30470.422135257097,
          -30470.422135257097,
          39092.927597895075,
          39092.927597895075,
          39092.927597895075,
          39092.927597895075,
          39092.927597895075,
          39092.927597895075,
          39092.927597895075,
          39092.927597895075,
          39092.927597895075,
          39092.927597895075,
          126047.11476433529,
          126047.11476433529,
          126047.11476433529,
          126047.11476433529,
          126047.11476433529,
          126047.11476433529,
          126047.11476433529,
          126047.11476433529,
          126047.11476433529,
          126047.11476433529,
          126047.11476433529,
          126047.11476433529,
          126047.11476433529,
          821680.6120958569,
          821680.6120958569,
          821680.6120958569,
          1691222.483760259,
          1691222.483760259,
          1691222.483760259
         ],
         "yaxis": "y"
        },
        {
         "hovertemplate": "Category=PHOTOGRAPHY<br>Installs=%{x}<br>Revenue=%{y}<extra></extra>",
         "legendgroup": "PHOTOGRAPHY",
         "marker": {
          "color": "#636efa",
          "symbol": "circle"
         },
         "mode": "markers",
         "name": "PHOTOGRAPHY",
         "orientation": "v",
         "showlegend": true,
         "type": "scatter",
         "x": [
          1000000,
          100000,
          100000,
          10000,
          500,
          1000,
          1000,
          1000,
          5000,
          50000,
          100000,
          100000,
          10,
          500000,
          10000,
          10
         ],
         "xaxis": "x",
         "y": [
          5990000,
          299000,
          395000,
          49900,
          745,
          9990,
          19990,
          2990,
          14950.000000000002,
          99500,
          395000,
          149000,
          34.900000000000006,
          1495000,
          19900,
          49.900000000000006
         ],
         "yaxis": "y"
        },
        {
         "hovertemplate": "<b>OLS trendline</b><br>Revenue = 5.49721 * Installs + -120955<br>R<sup>2</sup>=0.943855<br><br>Category=PHOTOGRAPHY<br>Installs=%{x}<br>Revenue=%{y} <b>(trend)</b><extra></extra>",
         "legendgroup": "PHOTOGRAPHY",
         "marker": {
          "color": "#636efa",
          "symbol": "circle"
         },
         "mode": "lines",
         "name": "PHOTOGRAPHY",
         "showlegend": false,
         "type": "scatter",
         "x": [
          10,
          10,
          500,
          1000,
          1000,
          1000,
          5000,
          10000,
          10000,
          50000,
          100000,
          100000,
          100000,
          100000,
          500000,
          1000000
         ],
         "xaxis": "x",
         "y": [
          -120900.13812908319,
          -120900.13812908319,
          -118206.50730105795,
          -115457.90441531791,
          -115457.90441531791,
          -115457.90441531791,
          -93469.08132939758,
          -65983.05247199719,
          -65983.05247199719,
          153905.17838720605,
          428765.46696121007,
          428765.46696121007,
          428765.46696121007,
          428765.46696121007,
          2627647.7755532423,
          5376250.661293283
         ],
         "yaxis": "y"
        },
        {
         "hovertemplate": "Category=SPORTS<br>Installs=%{x}<br>Revenue=%{y}<extra></extra>",
         "legendgroup": "SPORTS",
         "marker": {
          "color": "#EF553B",
          "symbol": "circle"
         },
         "mode": "markers",
         "name": "SPORTS",
         "orientation": "v",
         "showlegend": true,
         "type": "scatter",
         "x": [
          50000,
          100,
          100,
          50000,
          1000000,
          5000,
          1000,
          1000,
          1000,
          1000,
          1000,
          100,
          10000,
          1000,
          5000,
          5000,
          500,
          1000,
          1000,
          5000,
          5000,
          100000
         ],
         "xaxis": "x",
         "y": [
          1499500,
          388,
          302,
          199500,
          1990000,
          14950.000000000002,
          4490,
          3990,
          2990,
          990,
          990,
          349,
          49900,
          2990,
          9950,
          5000,
          1495,
          2490,
          1990,
          4950,
          9950,
          899000
         ],
         "yaxis": "y"
        },
        {
         "hovertemplate": "<b>OLS trendline</b><br>Revenue = 2.01026 * Installs + 100263<br>R<sup>2</sup>=0.630862<br><br>Category=SPORTS<br>Installs=%{x}<br>Revenue=%{y} <b>(trend)</b><extra></extra>",
         "legendgroup": "SPORTS",
         "marker": {
          "color": "#EF553B",
          "symbol": "circle"
         },
         "mode": "lines",
         "name": "SPORTS",
         "showlegend": false,
         "type": "scatter",
         "x": [
          100,
          100,
          100,
          500,
          1000,
          1000,
          1000,
          1000,
          1000,
          1000,
          1000,
          1000,
          5000,
          5000,
          5000,
          5000,
          5000,
          10000,
          50000,
          50000,
          100000,
          1000000
         ],
         "xaxis": "x",
         "y": [
          100464.06227190892,
          100464.06227190892,
          100464.06227190892,
          101268.16814498173,
          102273.30048632274,
          102273.30048632274,
          102273.30048632274,
          102273.30048632274,
          102273.30048632274,
          102273.30048632274,
          102273.30048632274,
          102273.30048632274,
          110314.35921705085,
          110314.35921705085,
          110314.35921705085,
          110314.35921705085,
          110314.35921705085,
          120365.68263046097,
          200776.26993774204,
          200776.26993774204,
          301289.5040718434,
          2110527.7184856674
         ],
         "yaxis": "y"
        },
        {
         "hovertemplate": "Category=PERSONALIZATION<br>Installs=%{x}<br>Revenue=%{y}<extra></extra>",
         "legendgroup": "PERSONALIZATION",
         "marker": {
          "color": "#00cc96",
          "symbol": "circle"
         },
         "mode": "markers",
         "name": "PERSONALIZATION",
         "orientation": "v",
         "showlegend": true,
         "type": "scatter",
         "x": [
          1000000,
          1000000,
          10000,
          10000,
          100000,
          5000,
          1000,
          10000,
          10000,
          100000,
          1000,
          5000,
          500,
          500,
          100000,
          1000,
          10000,
          5000,
          100,
          100,
          1000,
          100,
          500,
          100,
          100,
          100,
          100,
          5000,
          100,
          1000,
          1000,
          10000,
          10000,
          10000,
          1000,
          100,
          50,
          10,
          50,
          500,
          10000,
          100000,
          500,
          1000,
          1000000,
          1000,
          1000,
          1000,
          1000,
          1000,
          10,
          100000,
          10000,
          100,
          100,
          10000,
          50000,
          100,
          50,
          1000,
          10000,
          500000,
          50000,
          500,
          50,
          100
         ],
         "xaxis": "x",
         "y": [
          2490000,
          990000,
          9900,
          99900,
          449000,
          9950,
          1700,
          29900.000000000004,
          9900,
          99000,
          1700,
          4950,
          745,
          745,
          299000,
          2490,
          9900,
          34950,
          199,
          99,
          1490,
          99,
          745,
          149,
          149,
          149,
          99,
          7450,
          99,
          4990,
          1990,
          19900,
          9900,
          9900,
          1490,
          99,
          49.5,
          9.9,
          49.5,
          745,
          9900,
          199000,
          1000,
          990,
          990000,
          990,
          4990,
          990,
          990,
          990,
          9.9,
          499000,
          19900,
          99,
          249.00000000000003,
          19900,
          124500.00000000001,
          149,
          49.5,
          3990,
          9900,
          1245000,
          49500,
          495,
          49.5,
          99
         ],
         "yaxis": "y"
        },
        {
         "hovertemplate": "<b>OLS trendline</b><br>Revenue = 1.56891 * Installs + 16743.7<br>R<sup>2</sup>=0.792711<br><br>Category=PERSONALIZATION<br>Installs=%{x}<br>Revenue=%{y} <b>(trend)</b><extra></extra>",
         "legendgroup": "PERSONALIZATION",
         "marker": {
          "color": "#00cc96",
          "symbol": "circle"
         },
         "mode": "lines",
         "name": "PERSONALIZATION",
         "showlegend": false,
         "type": "scatter",
         "x": [
          10,
          10,
          50,
          50,
          50,
          50,
          100,
          100,
          100,
          100,
          100,
          100,
          100,
          100,
          100,
          100,
          100,
          100,
          100,
          500,
          500,
          500,
          500,
          500,
          500,
          1000,
          1000,
          1000,
          1000,
          1000,
          1000,
          1000,
          1000,
          1000,
          1000,
          1000,
          1000,
          1000,
          1000,
          5000,
          5000,
          5000,
          5000,
          10000,
          10000,
          10000,
          10000,
          10000,
          10000,
          10000,
          10000,
          10000,
          10000,
          10000,
          10000,
          50000,
          50000,
          100000,
          100000,
          100000,
          100000,
          100000,
          500000,
          1000000,
          1000000,
          1000000
         ],
         "xaxis": "x",
         "y": [
          16759.417876629923,
          16759.417876629923,
          16822.174174114032,
          16822.174174114032,
          16822.174174114032,
          16822.174174114032,
          16900.619545969173,
          16900.619545969173,
          16900.619545969173,
          16900.619545969173,
          16900.619545969173,
          16900.619545969173,
          16900.619545969173,
          16900.619545969173,
          16900.619545969173,
          16900.619545969173,
          16900.619545969173,
          16900.619545969173,
          16900.619545969173,
          17528.182520810282,
          17528.182520810282,
          17528.182520810282,
          17528.182520810282,
          17528.182520810282,
          17528.182520810282,
          18312.63623936167,
          18312.63623936167,
          18312.63623936167,
          18312.63623936167,
          18312.63623936167,
          18312.63623936167,
          18312.63623936167,
          18312.63623936167,
          18312.63623936167,
          18312.63623936167,
          18312.63623936167,
          18312.63623936167,
          18312.63623936167,
          18312.63623936167,
          24588.265987772775,
          24588.265987772775,
          24588.265987772775,
          24588.265987772775,
          32432.803173286655,
          32432.803173286655,
          32432.803173286655,
          32432.803173286655,
          32432.803173286655,
          32432.803173286655,
          32432.803173286655,
          32432.803173286655,
          32432.803173286655,
          32432.803173286655,
          32432.803173286655,
          32432.803173286655,
          95189.10065739769,
          95189.10065739769,
          173634.4725125365,
          173634.4725125365,
          173634.4725125365,
          173634.4725125365,
          173634.4725125365,
          801197.4473536469,
          1585651.1659050349,
          1585651.1659050349,
          1585651.1659050349
         ],
         "yaxis": "y"
        },
        {
         "hovertemplate": "Category=PRODUCTIVITY<br>Installs=%{x}<br>Revenue=%{y}<extra></extra>",
         "legendgroup": "PRODUCTIVITY",
         "marker": {
          "color": "#ab63fa",
          "symbol": "circle"
         },
         "mode": "markers",
         "name": "PRODUCTIVITY",
         "orientation": "v",
         "showlegend": true,
         "type": "scatter",
         "x": [
          100000,
          100,
          1000,
          100,
          1000,
          1000,
          100000,
          100000,
          100,
          500000,
          5000,
          500,
          10,
          1000,
          50000,
          500000,
          50000,
          1000
         ],
         "xaxis": "x",
         "y": [
          599000,
          299,
          2990,
          649,
          1290,
          990,
          499000,
          449000,
          499,
          995000,
          19950,
          4495,
          9.9,
          4290,
          74500,
          1495000,
          149500,
          7990
         ],
         "yaxis": "y"
        },
        {
         "hovertemplate": "<b>OLS trendline</b><br>Revenue = 2.52947 * Installs + 40880.2<br>R<sup>2</sup>=0.895250<br><br>Category=PRODUCTIVITY<br>Installs=%{x}<br>Revenue=%{y} <b>(trend)</b><extra></extra>",
         "legendgroup": "PRODUCTIVITY",
         "marker": {
          "color": "#ab63fa",
          "symbol": "circle"
         },
         "mode": "lines",
         "name": "PRODUCTIVITY",
         "showlegend": false,
         "type": "scatter",
         "x": [
          10,
          100,
          100,
          100,
          500,
          1000,
          1000,
          1000,
          1000,
          1000,
          5000,
          50000,
          50000,
          100000,
          100000,
          100000,
          500000,
          500000
         ],
         "xaxis": "x",
         "y": [
          40905.51270552376,
          41133.16541418376,
          41133.16541418376,
          41133.16541418376,
          42144.95523045041,
          43409.69250078373,
          43409.69250078373,
          43409.69250078373,
          43409.69250078373,
          43409.69250078373,
          53527.59066345026,
          167353.94499344873,
          167353.94499344873,
          293827.67202678043,
          293827.67202678043,
          293827.67202678043,
          1305617.4882934338,
          1305617.4882934338
         ],
         "yaxis": "y"
        },
        {
         "hovertemplate": "Category=WEATHER<br>Installs=%{x}<br>Revenue=%{y}<extra></extra>",
         "legendgroup": "WEATHER",
         "marker": {
          "color": "#FFA15A",
          "symbol": "circle"
         },
         "mode": "markers",
         "name": "WEATHER",
         "orientation": "v",
         "showlegend": true,
         "type": "scatter",
         "x": [
          100000,
          500000,
          500,
          10000,
          100000,
          100000,
          1000
         ],
         "xaxis": "x",
         "y": [
          449000,
          2995000,
          995,
          29900.000000000004,
          299000,
          399000,
          6990
         ],
         "yaxis": "y"
        },
        {
         "hovertemplate": "<b>OLS trendline</b><br>Revenue = 6.06336 * Installs + -105791<br>R<sup>2</sup>=0.987560<br><br>Category=WEATHER<br>Installs=%{x}<br>Revenue=%{y} <b>(trend)</b><extra></extra>",
         "legendgroup": "WEATHER",
         "marker": {
          "color": "#FFA15A",
          "symbol": "circle"
         },
         "mode": "lines",
         "name": "WEATHER",
         "showlegend": false,
         "type": "scatter",
         "x": [
          500,
          1000,
          10000,
          100000,
          100000,
          100000,
          500000
         ],
         "xaxis": "x",
         "y": [
          -102758.89396137935,
          -99727.212490012,
          -45156.946005399484,
          500545.71884072555,
          500545.71884072555,
          500545.71884072555,
          2925890.895934615
         ],
         "yaxis": "y"
        },
        {
         "hovertemplate": "Category=TOOLS<br>Installs=%{x}<br>Revenue=%{y}<extra></extra>",
         "legendgroup": "TOOLS",
         "marker": {
          "color": "#19d3f3",
          "symbol": "circle"
         },
         "mode": "markers",
         "name": "TOOLS",
         "orientation": "v",
         "showlegend": true,
         "type": "scatter",
         "x": [
          100,
          5000,
          1000,
          5000,
          100,
          10000,
          50,
          10000,
          5000,
          1000,
          10000,
          10000,
          10000,
          10000,
          10000,
          10,
          100,
          10,
          1000,
          1000,
          5000,
          100000,
          10000,
          100,
          500,
          500,
          1000,
          10000,
          10000,
          1000,
          100,
          500,
          500,
          1000,
          100000,
          10000,
          50000,
          500,
          1000,
          50,
          100,
          1000,
          50000,
          10000,
          10000,
          1000,
          1000,
          500,
          10000,
          10000,
          100000,
          1000000,
          5000,
          1000,
          5000,
          5000,
          5000,
          5000,
          100,
          10000,
          1000,
          5000,
          100000
         ],
         "xaxis": "x",
         "y": [
          199,
          24950,
          1490,
          74950,
          599,
          9900,
          88,
          29900.000000000004,
          4950,
          3990,
          19900,
          25000,
          19900,
          29900.000000000004,
          29900.000000000004,
          9.9,
          499,
          29.900000000000002,
          2490,
          1990,
          4950,
          249000.00000000003,
          19900,
          399,
          1995,
          1995,
          990,
          25900,
          29900.000000000004,
          990,
          99,
          495,
          495,
          1490,
          399000,
          39000,
          149500,
          495,
          5990,
          149.5,
          399,
          4990,
          149500,
          32800,
          49900,
          990,
          14990,
          995,
          29500,
          19700,
          449000,
          2990000,
          24950,
          4990,
          24950,
          24950,
          24950,
          24950,
          149,
          19900,
          2990,
          5000,
          349000
         ],
         "yaxis": "y"
        },
        {
         "hovertemplate": "<b>OLS trendline</b><br>Revenue = 3.00678 * Installs + 4297.61<br>R<sup>2</sup>=0.995383<br><br>Category=TOOLS<br>Installs=%{x}<br>Revenue=%{y} <b>(trend)</b><extra></extra>",
         "legendgroup": "TOOLS",
         "marker": {
          "color": "#19d3f3",
          "symbol": "circle"
         },
         "mode": "lines",
         "name": "TOOLS",
         "showlegend": false,
         "type": "scatter",
         "x": [
          10,
          10,
          50,
          50,
          100,
          100,
          100,
          100,
          100,
          100,
          100,
          500,
          500,
          500,
          500,
          500,
          500,
          1000,
          1000,
          1000,
          1000,
          1000,
          1000,
          1000,
          1000,
          1000,
          1000,
          1000,
          1000,
          1000,
          5000,
          5000,
          5000,
          5000,
          5000,
          5000,
          5000,
          5000,
          5000,
          5000,
          10000,
          10000,
          10000,
          10000,
          10000,
          10000,
          10000,
          10000,
          10000,
          10000,
          10000,
          10000,
          10000,
          10000,
          10000,
          10000,
          50000,
          50000,
          100000,
          100000,
          100000,
          100000,
          1000000
         ],
         "xaxis": "x",
         "y": [
          4327.673360127381,
          4327.673360127381,
          4447.944405106484,
          4447.944405106484,
          4598.283211330364,
          4598.283211330364,
          4598.283211330364,
          4598.283211330364,
          4598.283211330364,
          4598.283211330364,
          4598.283211330364,
          5800.993661121401,
          5800.993661121401,
          5800.993661121401,
          5800.993661121401,
          5800.993661121401,
          5800.993661121401,
          7304.381723360197,
          7304.381723360197,
          7304.381723360197,
          7304.381723360197,
          7304.381723360197,
          7304.381723360197,
          7304.381723360197,
          7304.381723360197,
          7304.381723360197,
          7304.381723360197,
          7304.381723360197,
          7304.381723360197,
          7304.381723360197,
          19331.486221270563,
          19331.486221270563,
          19331.486221270563,
          19331.486221270563,
          19331.486221270563,
          19331.486221270563,
          19331.486221270563,
          19331.486221270563,
          19331.486221270563,
          19331.486221270563,
          34365.36684365853,
          34365.36684365853,
          34365.36684365853,
          34365.36684365853,
          34365.36684365853,
          34365.36684365853,
          34365.36684365853,
          34365.36684365853,
          34365.36684365853,
          34365.36684365853,
          34365.36684365853,
          34365.36684365853,
          34365.36684365853,
          34365.36684365853,
          34365.36684365853,
          34365.36684365853,
          154636.4118227622,
          154636.4118227622,
          304975.2180466418,
          304975.2180466418,
          304975.2180466418,
          304975.2180466418,
          3011073.730076475
         ],
         "yaxis": "y"
        },
        {
         "hovertemplate": "Category=TRAVEL_AND_LOCAL<br>Installs=%{x}<br>Revenue=%{y}<extra></extra>",
         "legendgroup": "TRAVEL_AND_LOCAL",
         "marker": {
          "color": "#FF6692",
          "symbol": "circle"
         },
         "mode": "markers",
         "name": "TRAVEL_AND_LOCAL",
         "orientation": "v",
         "showlegend": true,
         "type": "scatter",
         "x": [
          100000,
          1000,
          5000,
          50000,
          5000,
          1000,
          10000,
          10000
         ],
         "xaxis": "x",
         "y": [
          899000,
          8490,
          19950,
          124500.00000000001,
          14950.000000000002,
          2560,
          59900,
          19900
         ],
         "yaxis": "y"
        },
        {
         "hovertemplate": "<b>OLS trendline</b><br>Revenue = 8.24051 * Installs + -43815.2<br>R<sup>2</sup>=0.881625<br><br>Category=TRAVEL_AND_LOCAL<br>Installs=%{x}<br>Revenue=%{y} <b>(trend)</b><extra></extra>",
         "legendgroup": "TRAVEL_AND_LOCAL",
         "marker": {
          "color": "#FF6692",
          "symbol": "circle"
         },
         "mode": "lines",
         "name": "TRAVEL_AND_LOCAL",
         "showlegend": false,
         "type": "scatter",
         "x": [
          1000,
          1000,
          5000,
          5000,
          10000,
          10000,
          50000,
          100000
         ],
         "xaxis": "x",
         "y": [
          -35574.74307611923,
          -35574.74307611923,
          -2612.721360970856,
          -2612.721360970856,
          38589.80578296461,
          38589.80578296461,
          368210.0229344484,
          780235.2943738031
         ],
         "yaxis": "y"
        },
        {
         "hovertemplate": "Category=LIFESTYLE<br>Installs=%{x}<br>Revenue=%{y}<extra></extra>",
         "legendgroup": "LIFESTYLE",
         "marker": {
          "color": "#B6E880",
          "symbol": "circle"
         },
         "mode": "markers",
         "name": "LIFESTYLE",
         "orientation": "v",
         "showlegend": true,
         "type": "scatter",
         "x": [
          5000,
          5000,
          10000,
          10000,
          5000,
          10000,
          100000,
          10000,
          1000,
          1000,
          5000,
          1000000,
          1000,
          5000,
          100,
          10000,
          10,
          1000
         ],
         "xaxis": "x",
         "y": [
          4950,
          9950,
          3999900,
          4000000,
          19950,
          24900.000000000004,
          39999000,
          2999900,
          379990,
          37990,
          12450.000000000002,
          5990000,
          4990,
          14950.000000000002,
          99,
          79900,
          30.4,
          4990
         ],
         "yaxis": "y"
        },
        {
         "hovertemplate": "<b>OLS trendline</b><br>Revenue = 6.78129 * Installs + 2.75489e+06<br>R<sup>2</sup>=0.028754<br><br>Category=LIFESTYLE<br>Installs=%{x}<br>Revenue=%{y} <b>(trend)</b><extra></extra>",
         "legendgroup": "LIFESTYLE",
         "marker": {
          "color": "#B6E880",
          "symbol": "circle"
         },
         "mode": "lines",
         "name": "LIFESTYLE",
         "showlegend": false,
         "type": "scatter",
         "x": [
          10,
          100,
          1000,
          1000,
          1000,
          1000,
          5000,
          5000,
          5000,
          5000,
          5000,
          10000,
          10000,
          10000,
          10000,
          10000,
          100000,
          1000000
         ],
         "xaxis": "x",
         "y": [
          2754959.877929181,
          2755570.1936763027,
          2761673.3511475245,
          2761673.3511475245,
          2761673.3511475245,
          2761673.3511475245,
          2788798.4954640646,
          2788798.4954640646,
          2788798.4954640646,
          2788798.4954640646,
          2788798.4954640646,
          2822704.9258597405,
          2822704.9258597405,
          2822704.9258597405,
          2822704.9258597405,
          2822704.9258597405,
          3433020.6729818997,
          9536178.144203492
         ],
         "yaxis": "y"
        },
        {
         "hovertemplate": "Category=AUTO_AND_VEHICLES<br>Installs=%{x}<br>Revenue=%{y}<extra></extra>",
         "legendgroup": "AUTO_AND_VEHICLES",
         "marker": {
          "color": "#FF97FF",
          "symbol": "circle"
         },
         "mode": "markers",
         "name": "AUTO_AND_VEHICLES",
         "orientation": "v",
         "showlegend": true,
         "type": "scatter",
         "x": [
          50000
         ],
         "xaxis": "x",
         "y": [
          99500
         ],
         "yaxis": "y"
        },
        {
         "hovertemplate": "Category=AUTO_AND_VEHICLES<extra></extra>",
         "legendgroup": "AUTO_AND_VEHICLES",
         "marker": {
          "color": "#FF97FF",
          "symbol": "circle"
         },
         "mode": "lines",
         "name": "AUTO_AND_VEHICLES",
         "showlegend": false,
         "type": "scatter",
         "xaxis": "x",
         "yaxis": "y"
        },
        {
         "hovertemplate": "Category=NEWS_AND_MAGAZINES<br>Installs=%{x}<br>Revenue=%{y}<extra></extra>",
         "legendgroup": "NEWS_AND_MAGAZINES",
         "marker": {
          "color": "#FECB52",
          "symbol": "circle"
         },
         "mode": "markers",
         "name": "NEWS_AND_MAGAZINES",
         "orientation": "v",
         "showlegend": true,
         "type": "scatter",
         "x": [
          5000,
          500
         ],
         "xaxis": "x",
         "y": [
          4950,
          1495
         ],
         "yaxis": "y"
        },
        {
         "hovertemplate": "<b>OLS trendline</b><br>Revenue = 0.767778 * Installs + 1111.11<br>R<sup>2</sup>=1.000000<br><br>Category=NEWS_AND_MAGAZINES<br>Installs=%{x}<br>Revenue=%{y} <b>(trend)</b><extra></extra>",
         "legendgroup": "NEWS_AND_MAGAZINES",
         "marker": {
          "color": "#FECB52",
          "symbol": "circle"
         },
         "mode": "lines",
         "name": "NEWS_AND_MAGAZINES",
         "showlegend": false,
         "type": "scatter",
         "x": [
          500,
          5000
         ],
         "xaxis": "x",
         "y": [
          1494.9999999999998,
          4949.999999999999
         ],
         "yaxis": "y"
        },
        {
         "hovertemplate": "Category=SHOPPING<br>Installs=%{x}<br>Revenue=%{y}<extra></extra>",
         "legendgroup": "SHOPPING",
         "marker": {
          "color": "#636efa",
          "symbol": "circle"
         },
         "mode": "markers",
         "name": "SHOPPING",
         "orientation": "v",
         "showlegend": true,
         "type": "scatter",
         "x": [
          100,
          10000
         ],
         "xaxis": "x",
         "y": [
          249.00000000000003,
          29900.000000000004
         ],
         "yaxis": "y"
        },
        {
         "hovertemplate": "<b>OLS trendline</b><br>Revenue = 2.99505 * Installs + -50.5051<br>R<sup>2</sup>=1.000000<br><br>Category=SHOPPING<br>Installs=%{x}<br>Revenue=%{y} <b>(trend)</b><extra></extra>",
         "legendgroup": "SHOPPING",
         "marker": {
          "color": "#636efa",
          "symbol": "circle"
         },
         "mode": "lines",
         "name": "SHOPPING",
         "showlegend": false,
         "type": "scatter",
         "x": [
          100,
          10000
         ],
         "xaxis": "x",
         "y": [
          248.9999999999996,
          29900.000000000004
         ],
         "yaxis": "y"
        },
        {
         "hovertemplate": "Category=BOOKS_AND_REFERENCE<br>Installs=%{x}<br>Revenue=%{y}<extra></extra>",
         "legendgroup": "BOOKS_AND_REFERENCE",
         "marker": {
          "color": "#EF553B",
          "symbol": "circle"
         },
         "mode": "markers",
         "name": "BOOKS_AND_REFERENCE",
         "orientation": "v",
         "showlegend": true,
         "type": "scatter",
         "x": [
          5000,
          100,
          10000,
          50,
          1000,
          500,
          1000,
          5000
         ],
         "xaxis": "x",
         "y": [
          14950.000000000002,
          399,
          44900,
          87.5,
          3080,
          495,
          1990,
          23000
         ],
         "yaxis": "y"
        },
        {
         "hovertemplate": "<b>OLS trendline</b><br>Revenue = 4.45238 * Installs + -1493.12<br>R<sup>2</sup>=0.973652<br><br>Category=BOOKS_AND_REFERENCE<br>Installs=%{x}<br>Revenue=%{y} <b>(trend)</b><extra></extra>",
         "legendgroup": "BOOKS_AND_REFERENCE",
         "marker": {
          "color": "#EF553B",
          "symbol": "circle"
         },
         "mode": "lines",
         "name": "BOOKS_AND_REFERENCE",
         "showlegend": false,
         "type": "scatter",
         "x": [
          50,
          100,
          500,
          1000,
          1000,
          5000,
          5000,
          10000
         ],
         "xaxis": "x",
         "y": [
          -1270.503311692685,
          -1047.8841510330412,
          733.0691342441091,
          2959.260740840547,
          2959.260740840547,
          20768.79359361205,
          20768.79359361205,
          43030.70965957643
         ],
         "yaxis": "y"
        },
        {
         "hovertemplate": "Category=SOCIAL<br>Installs=%{x}<br>Revenue=%{y}<extra></extra>",
         "legendgroup": "SOCIAL",
         "marker": {
          "color": "#00cc96",
          "symbol": "circle"
         },
         "mode": "markers",
         "name": "SOCIAL",
         "orientation": "v",
         "showlegend": true,
         "type": "scatter",
         "x": [
          1000,
          5000
         ],
         "xaxis": "x",
         "y": [
          990,
          4950
         ],
         "yaxis": "y"
        },
        {
         "hovertemplate": "<b>OLS trendline</b><br>Revenue = 0.99 * Installs + -4.54747e-13<br>R<sup>2</sup>=1.000000<br><br>Category=SOCIAL<br>Installs=%{x}<br>Revenue=%{y} <b>(trend)</b><extra></extra>",
         "legendgroup": "SOCIAL",
         "marker": {
          "color": "#00cc96",
          "symbol": "circle"
         },
         "mode": "lines",
         "name": "SOCIAL",
         "showlegend": false,
         "type": "scatter",
         "x": [
          1000,
          5000
         ],
         "xaxis": "x",
         "y": [
          989.9999999999998,
          4950
         ],
         "yaxis": "y"
        },
        {
         "hovertemplate": "Category=ART_AND_DESIGN<br>Installs=%{x}<br>Revenue=%{y}<extra></extra>",
         "legendgroup": "ART_AND_DESIGN",
         "marker": {
          "color": "#ab63fa",
          "symbol": "circle"
         },
         "mode": "markers",
         "name": "ART_AND_DESIGN",
         "orientation": "v",
         "showlegend": true,
         "type": "scatter",
         "x": [
          5000,
          10000,
          1000
         ],
         "xaxis": "x",
         "y": [
          9950,
          19900,
          1990
         ],
         "yaxis": "y"
        },
        {
         "hovertemplate": "<b>OLS trendline</b><br>Revenue = 1.99 * Installs + -2.72848e-12<br>R<sup>2</sup>=1.000000<br><br>Category=ART_AND_DESIGN<br>Installs=%{x}<br>Revenue=%{y} <b>(trend)</b><extra></extra>",
         "legendgroup": "ART_AND_DESIGN",
         "marker": {
          "color": "#ab63fa",
          "symbol": "circle"
         },
         "mode": "lines",
         "name": "ART_AND_DESIGN",
         "showlegend": false,
         "type": "scatter",
         "x": [
          1000,
          5000,
          10000
         ],
         "xaxis": "x",
         "y": [
          1989.9999999999982,
          9950,
          19900.000000000004
         ],
         "yaxis": "y"
        },
        {
         "hovertemplate": "Category=VIDEO_PLAYERS<br>Installs=%{x}<br>Revenue=%{y}<extra></extra>",
         "legendgroup": "VIDEO_PLAYERS",
         "marker": {
          "color": "#FFA15A",
          "symbol": "circle"
         },
         "mode": "markers",
         "name": "VIDEO_PLAYERS",
         "orientation": "v",
         "showlegend": true,
         "type": "scatter",
         "x": [
          10000,
          10000,
          50000,
          1000
         ],
         "xaxis": "x",
         "y": [
          14900,
          19900,
          299500,
          990
         ],
         "yaxis": "y"
        },
        {
         "hovertemplate": "<b>OLS trendline</b><br>Revenue = 6.50536 * Installs + -31647.6<br>R<sup>2</sup>=0.980031<br><br>Category=VIDEO_PLAYERS<br>Installs=%{x}<br>Revenue=%{y} <b>(trend)</b><extra></extra>",
         "legendgroup": "VIDEO_PLAYERS",
         "marker": {
          "color": "#FFA15A",
          "symbol": "circle"
         },
         "mode": "lines",
         "name": "VIDEO_PLAYERS",
         "showlegend": false,
         "type": "scatter",
         "x": [
          1000,
          10000,
          10000,
          50000
         ],
         "xaxis": "x",
         "y": [
          -25142.222800624673,
          33405.98646538263,
          33405.98646538263,
          293620.2498698595
         ],
         "yaxis": "y"
        },
        {
         "hovertemplate": "Category=FINANCE<br>Installs=%{x}<br>Revenue=%{y}<extra></extra>",
         "legendgroup": "FINANCE",
         "marker": {
          "color": "#19d3f3",
          "symbol": "circle"
         },
         "mode": "markers",
         "name": "FINANCE",
         "orientation": "v",
         "showlegend": true,
         "type": "scatter",
         "x": [
          50000,
          1000,
          5000,
          10000,
          1000,
          5000,
          1000,
          1000,
          500,
          1000,
          100000,
          100,
          10000
         ],
         "xaxis": "x",
         "y": [
          19999500,
          399990,
          1999950,
          189899.99999999997,
          399990,
          1999950,
          399990,
          3990,
          1995,
          1990,
          299000,
          499,
          29900.000000000004
         ],
         "yaxis": "y"
        },
        {
         "hovertemplate": "<b>OLS trendline</b><br>Revenue = 67.8823 * Installs + 1.00982e+06<br>R<sup>2</sup>=0.130191<br><br>Category=FINANCE<br>Installs=%{x}<br>Revenue=%{y} <b>(trend)</b><extra></extra>",
         "legendgroup": "FINANCE",
         "marker": {
          "color": "#19d3f3",
          "symbol": "circle"
         },
         "mode": "lines",
         "name": "FINANCE",
         "showlegend": false,
         "type": "scatter",
         "x": [
          100,
          500,
          1000,
          1000,
          1000,
          1000,
          1000,
          5000,
          5000,
          10000,
          10000,
          50000,
          100000
         ],
         "xaxis": "x",
         "y": [
          1016610.3244382219,
          1043763.248545228,
          1077704.4036789858,
          1077704.4036789858,
          1077704.4036789858,
          1077704.4036789858,
          1077704.4036789858,
          1349233.6447490482,
          1349233.6447490482,
          1688645.1960866263,
          1688645.1960866263,
          4403937.606787249,
          7798053.120163029
         ],
         "yaxis": "y"
        },
        {
         "hovertemplate": "Category=MAPS_AND_NAVIGATION<br>Installs=%{x}<br>Revenue=%{y}<extra></extra>",
         "legendgroup": "MAPS_AND_NAVIGATION",
         "marker": {
          "color": "#FF6692",
          "symbol": "circle"
         },
         "mode": "markers",
         "name": "MAPS_AND_NAVIGATION",
         "orientation": "v",
         "showlegend": true,
         "type": "scatter",
         "x": [
          10000,
          100000,
          1000,
          10000,
          100
         ],
         "xaxis": "x",
         "y": [
          9900,
          1199000,
          990,
          29900.000000000004,
          999
         ],
         "yaxis": "y"
        },
        {
         "hovertemplate": "<b>OLS trendline</b><br>Revenue = 12.4171 * Installs + -52584.7<br>R<sup>2</sup>=0.991090<br><br>Category=MAPS_AND_NAVIGATION<br>Installs=%{x}<br>Revenue=%{y} <b>(trend)</b><extra></extra>",
         "legendgroup": "MAPS_AND_NAVIGATION",
         "marker": {
          "color": "#FF6692",
          "symbol": "circle"
         },
         "mode": "lines",
         "name": "MAPS_AND_NAVIGATION",
         "showlegend": false,
         "type": "scatter",
         "x": [
          100,
          1000,
          10000,
          10000,
          100000
         ],
         "xaxis": "x",
         "y": [
          -51342.96683309552,
          -40167.56508559195,
          71586.4523894437,
          71586.4523894437,
          1189126.6271398002
         ],
         "yaxis": "y"
        },
        {
         "hovertemplate": "Category=PARENTING<br>Installs=%{x}<br>Revenue=%{y}<extra></extra>",
         "legendgroup": "PARENTING",
         "marker": {
          "color": "#B6E880",
          "symbol": "circle"
         },
         "mode": "markers",
         "name": "PARENTING",
         "orientation": "v",
         "showlegend": true,
         "type": "scatter",
         "x": [
          50000,
          100
         ],
         "xaxis": "x",
         "y": [
          249500,
          459
         ],
         "yaxis": "y"
        },
        {
         "hovertemplate": "<b>OLS trendline</b><br>Revenue = 4.9908 * Installs + -40.0802<br>R<sup>2</sup>=1.000000<br><br>Category=PARENTING<br>Installs=%{x}<br>Revenue=%{y} <b>(trend)</b><extra></extra>",
         "legendgroup": "PARENTING",
         "marker": {
          "color": "#B6E880",
          "symbol": "circle"
         },
         "mode": "lines",
         "name": "PARENTING",
         "showlegend": false,
         "type": "scatter",
         "x": [
          100,
          50000
         ],
         "xaxis": "x",
         "y": [
          458.99999999998107,
          249500.0000000001
         ],
         "yaxis": "y"
        }
       ],
       "layout": {
        "autosize": true,
        "legend": {
         "title": {
          "text": "Category"
         },
         "tracegroupgap": 0
        },
        "template": {
         "data": {
          "bar": [
           {
            "error_x": {
             "color": "#2a3f5f"
            },
            "error_y": {
             "color": "#2a3f5f"
            },
            "marker": {
             "line": {
              "color": "#E5ECF6",
              "width": 0.5
             },
             "pattern": {
              "fillmode": "overlay",
              "size": 10,
              "solidity": 0.2
             }
            },
            "type": "bar"
           }
          ],
          "barpolar": [
           {
            "marker": {
             "line": {
              "color": "#E5ECF6",
              "width": 0.5
             },
             "pattern": {
              "fillmode": "overlay",
              "size": 10,
              "solidity": 0.2
             }
            },
            "type": "barpolar"
           }
          ],
          "carpet": [
           {
            "aaxis": {
             "endlinecolor": "#2a3f5f",
             "gridcolor": "white",
             "linecolor": "white",
             "minorgridcolor": "white",
             "startlinecolor": "#2a3f5f"
            },
            "baxis": {
             "endlinecolor": "#2a3f5f",
             "gridcolor": "white",
             "linecolor": "white",
             "minorgridcolor": "white",
             "startlinecolor": "#2a3f5f"
            },
            "type": "carpet"
           }
          ],
          "choropleth": [
           {
            "colorbar": {
             "outlinewidth": 0,
             "ticks": ""
            },
            "type": "choropleth"
           }
          ],
          "contour": [
           {
            "colorbar": {
             "outlinewidth": 0,
             "ticks": ""
            },
            "colorscale": [
             [
              0,
              "#0d0887"
             ],
             [
              0.1111111111111111,
              "#46039f"
             ],
             [
              0.2222222222222222,
              "#7201a8"
             ],
             [
              0.3333333333333333,
              "#9c179e"
             ],
             [
              0.4444444444444444,
              "#bd3786"
             ],
             [
              0.5555555555555556,
              "#d8576b"
             ],
             [
              0.6666666666666666,
              "#ed7953"
             ],
             [
              0.7777777777777778,
              "#fb9f3a"
             ],
             [
              0.8888888888888888,
              "#fdca26"
             ],
             [
              1,
              "#f0f921"
             ]
            ],
            "type": "contour"
           }
          ],
          "contourcarpet": [
           {
            "colorbar": {
             "outlinewidth": 0,
             "ticks": ""
            },
            "type": "contourcarpet"
           }
          ],
          "heatmap": [
           {
            "colorbar": {
             "outlinewidth": 0,
             "ticks": ""
            },
            "colorscale": [
             [
              0,
              "#0d0887"
             ],
             [
              0.1111111111111111,
              "#46039f"
             ],
             [
              0.2222222222222222,
              "#7201a8"
             ],
             [
              0.3333333333333333,
              "#9c179e"
             ],
             [
              0.4444444444444444,
              "#bd3786"
             ],
             [
              0.5555555555555556,
              "#d8576b"
             ],
             [
              0.6666666666666666,
              "#ed7953"
             ],
             [
              0.7777777777777778,
              "#fb9f3a"
             ],
             [
              0.8888888888888888,
              "#fdca26"
             ],
             [
              1,
              "#f0f921"
             ]
            ],
            "type": "heatmap"
           }
          ],
          "heatmapgl": [
           {
            "colorbar": {
             "outlinewidth": 0,
             "ticks": ""
            },
            "colorscale": [
             [
              0,
              "#0d0887"
             ],
             [
              0.1111111111111111,
              "#46039f"
             ],
             [
              0.2222222222222222,
              "#7201a8"
             ],
             [
              0.3333333333333333,
              "#9c179e"
             ],
             [
              0.4444444444444444,
              "#bd3786"
             ],
             [
              0.5555555555555556,
              "#d8576b"
             ],
             [
              0.6666666666666666,
              "#ed7953"
             ],
             [
              0.7777777777777778,
              "#fb9f3a"
             ],
             [
              0.8888888888888888,
              "#fdca26"
             ],
             [
              1,
              "#f0f921"
             ]
            ],
            "type": "heatmapgl"
           }
          ],
          "histogram": [
           {
            "marker": {
             "pattern": {
              "fillmode": "overlay",
              "size": 10,
              "solidity": 0.2
             }
            },
            "type": "histogram"
           }
          ],
          "histogram2d": [
           {
            "colorbar": {
             "outlinewidth": 0,
             "ticks": ""
            },
            "colorscale": [
             [
              0,
              "#0d0887"
             ],
             [
              0.1111111111111111,
              "#46039f"
             ],
             [
              0.2222222222222222,
              "#7201a8"
             ],
             [
              0.3333333333333333,
              "#9c179e"
             ],
             [
              0.4444444444444444,
              "#bd3786"
             ],
             [
              0.5555555555555556,
              "#d8576b"
             ],
             [
              0.6666666666666666,
              "#ed7953"
             ],
             [
              0.7777777777777778,
              "#fb9f3a"
             ],
             [
              0.8888888888888888,
              "#fdca26"
             ],
             [
              1,
              "#f0f921"
             ]
            ],
            "type": "histogram2d"
           }
          ],
          "histogram2dcontour": [
           {
            "colorbar": {
             "outlinewidth": 0,
             "ticks": ""
            },
            "colorscale": [
             [
              0,
              "#0d0887"
             ],
             [
              0.1111111111111111,
              "#46039f"
             ],
             [
              0.2222222222222222,
              "#7201a8"
             ],
             [
              0.3333333333333333,
              "#9c179e"
             ],
             [
              0.4444444444444444,
              "#bd3786"
             ],
             [
              0.5555555555555556,
              "#d8576b"
             ],
             [
              0.6666666666666666,
              "#ed7953"
             ],
             [
              0.7777777777777778,
              "#fb9f3a"
             ],
             [
              0.8888888888888888,
              "#fdca26"
             ],
             [
              1,
              "#f0f921"
             ]
            ],
            "type": "histogram2dcontour"
           }
          ],
          "mesh3d": [
           {
            "colorbar": {
             "outlinewidth": 0,
             "ticks": ""
            },
            "type": "mesh3d"
           }
          ],
          "parcoords": [
           {
            "line": {
             "colorbar": {
              "outlinewidth": 0,
              "ticks": ""
             }
            },
            "type": "parcoords"
           }
          ],
          "pie": [
           {
            "automargin": true,
            "type": "pie"
           }
          ],
          "scatter": [
           {
            "fillpattern": {
             "fillmode": "overlay",
             "size": 10,
             "solidity": 0.2
            },
            "type": "scatter"
           }
          ],
          "scatter3d": [
           {
            "line": {
             "colorbar": {
              "outlinewidth": 0,
              "ticks": ""
             }
            },
            "marker": {
             "colorbar": {
              "outlinewidth": 0,
              "ticks": ""
             }
            },
            "type": "scatter3d"
           }
          ],
          "scattercarpet": [
           {
            "marker": {
             "colorbar": {
              "outlinewidth": 0,
              "ticks": ""
             }
            },
            "type": "scattercarpet"
           }
          ],
          "scattergeo": [
           {
            "marker": {
             "colorbar": {
              "outlinewidth": 0,
              "ticks": ""
             }
            },
            "type": "scattergeo"
           }
          ],
          "scattergl": [
           {
            "marker": {
             "colorbar": {
              "outlinewidth": 0,
              "ticks": ""
             }
            },
            "type": "scattergl"
           }
          ],
          "scattermapbox": [
           {
            "marker": {
             "colorbar": {
              "outlinewidth": 0,
              "ticks": ""
             }
            },
            "type": "scattermapbox"
           }
          ],
          "scatterpolar": [
           {
            "marker": {
             "colorbar": {
              "outlinewidth": 0,
              "ticks": ""
             }
            },
            "type": "scatterpolar"
           }
          ],
          "scatterpolargl": [
           {
            "marker": {
             "colorbar": {
              "outlinewidth": 0,
              "ticks": ""
             }
            },
            "type": "scatterpolargl"
           }
          ],
          "scatterternary": [
           {
            "marker": {
             "colorbar": {
              "outlinewidth": 0,
              "ticks": ""
             }
            },
            "type": "scatterternary"
           }
          ],
          "surface": [
           {
            "colorbar": {
             "outlinewidth": 0,
             "ticks": ""
            },
            "colorscale": [
             [
              0,
              "#0d0887"
             ],
             [
              0.1111111111111111,
              "#46039f"
             ],
             [
              0.2222222222222222,
              "#7201a8"
             ],
             [
              0.3333333333333333,
              "#9c179e"
             ],
             [
              0.4444444444444444,
              "#bd3786"
             ],
             [
              0.5555555555555556,
              "#d8576b"
             ],
             [
              0.6666666666666666,
              "#ed7953"
             ],
             [
              0.7777777777777778,
              "#fb9f3a"
             ],
             [
              0.8888888888888888,
              "#fdca26"
             ],
             [
              1,
              "#f0f921"
             ]
            ],
            "type": "surface"
           }
          ],
          "table": [
           {
            "cells": {
             "fill": {
              "color": "#EBF0F8"
             },
             "line": {
              "color": "white"
             }
            },
            "header": {
             "fill": {
              "color": "#C8D4E3"
             },
             "line": {
              "color": "white"
             }
            },
            "type": "table"
           }
          ]
         },
         "layout": {
          "annotationdefaults": {
           "arrowcolor": "#2a3f5f",
           "arrowhead": 0,
           "arrowwidth": 1
          },
          "autotypenumbers": "strict",
          "coloraxis": {
           "colorbar": {
            "outlinewidth": 0,
            "ticks": ""
           }
          },
          "colorscale": {
           "diverging": [
            [
             0,
             "#8e0152"
            ],
            [
             0.1,
             "#c51b7d"
            ],
            [
             0.2,
             "#de77ae"
            ],
            [
             0.3,
             "#f1b6da"
            ],
            [
             0.4,
             "#fde0ef"
            ],
            [
             0.5,
             "#f7f7f7"
            ],
            [
             0.6,
             "#e6f5d0"
            ],
            [
             0.7,
             "#b8e186"
            ],
            [
             0.8,
             "#7fbc41"
            ],
            [
             0.9,
             "#4d9221"
            ],
            [
             1,
             "#276419"
            ]
           ],
           "sequential": [
            [
             0,
             "#0d0887"
            ],
            [
             0.1111111111111111,
             "#46039f"
            ],
            [
             0.2222222222222222,
             "#7201a8"
            ],
            [
             0.3333333333333333,
             "#9c179e"
            ],
            [
             0.4444444444444444,
             "#bd3786"
            ],
            [
             0.5555555555555556,
             "#d8576b"
            ],
            [
             0.6666666666666666,
             "#ed7953"
            ],
            [
             0.7777777777777778,
             "#fb9f3a"
            ],
            [
             0.8888888888888888,
             "#fdca26"
            ],
            [
             1,
             "#f0f921"
            ]
           ],
           "sequentialminus": [
            [
             0,
             "#0d0887"
            ],
            [
             0.1111111111111111,
             "#46039f"
            ],
            [
             0.2222222222222222,
             "#7201a8"
            ],
            [
             0.3333333333333333,
             "#9c179e"
            ],
            [
             0.4444444444444444,
             "#bd3786"
            ],
            [
             0.5555555555555556,
             "#d8576b"
            ],
            [
             0.6666666666666666,
             "#ed7953"
            ],
            [
             0.7777777777777778,
             "#fb9f3a"
            ],
            [
             0.8888888888888888,
             "#fdca26"
            ],
            [
             1,
             "#f0f921"
            ]
           ]
          },
          "colorway": [
           "#636efa",
           "#EF553B",
           "#00cc96",
           "#ab63fa",
           "#FFA15A",
           "#19d3f3",
           "#FF6692",
           "#B6E880",
           "#FF97FF",
           "#FECB52"
          ],
          "font": {
           "color": "#2a3f5f"
          },
          "geo": {
           "bgcolor": "white",
           "lakecolor": "white",
           "landcolor": "#E5ECF6",
           "showlakes": true,
           "showland": true,
           "subunitcolor": "white"
          },
          "hoverlabel": {
           "align": "left"
          },
          "hovermode": "closest",
          "mapbox": {
           "style": "light"
          },
          "paper_bgcolor": "white",
          "plot_bgcolor": "#E5ECF6",
          "polar": {
           "angularaxis": {
            "gridcolor": "white",
            "linecolor": "white",
            "ticks": ""
           },
           "bgcolor": "#E5ECF6",
           "radialaxis": {
            "gridcolor": "white",
            "linecolor": "white",
            "ticks": ""
           }
          },
          "scene": {
           "xaxis": {
            "backgroundcolor": "#E5ECF6",
            "gridcolor": "white",
            "gridwidth": 2,
            "linecolor": "white",
            "showbackground": true,
            "ticks": "",
            "zerolinecolor": "white"
           },
           "yaxis": {
            "backgroundcolor": "#E5ECF6",
            "gridcolor": "white",
            "gridwidth": 2,
            "linecolor": "white",
            "showbackground": true,
            "ticks": "",
            "zerolinecolor": "white"
           },
           "zaxis": {
            "backgroundcolor": "#E5ECF6",
            "gridcolor": "white",
            "gridwidth": 2,
            "linecolor": "white",
            "showbackground": true,
            "ticks": "",
            "zerolinecolor": "white"
           }
          },
          "shapedefaults": {
           "line": {
            "color": "#2a3f5f"
           }
          },
          "ternary": {
           "aaxis": {
            "gridcolor": "white",
            "linecolor": "white",
            "ticks": ""
           },
           "baxis": {
            "gridcolor": "white",
            "linecolor": "white",
            "ticks": ""
           },
           "bgcolor": "#E5ECF6",
           "caxis": {
            "gridcolor": "white",
            "linecolor": "white",
            "ticks": ""
           }
          },
          "title": {
           "x": 0.05
          },
          "xaxis": {
           "automargin": true,
           "gridcolor": "white",
           "linecolor": "white",
           "ticks": "",
           "title": {
            "standoff": 15
           },
           "zerolinecolor": "white",
           "zerolinewidth": 2
          },
          "yaxis": {
           "automargin": true,
           "gridcolor": "white",
           "linecolor": "white",
           "ticks": "",
           "title": {
            "standoff": 15
           },
           "zerolinecolor": "white",
           "zerolinewidth": 2
          }
         }
        },
        "title": {
         "text": "Revenue vs Installs (Paid Apps)"
        },
        "xaxis": {
         "anchor": "y",
         "autorange": true,
         "domain": [
          0,
          1
         ],
         "range": [
          -614858.0333048678,
          10614859.033304868
         ],
         "title": {
          "text": "Installs"
         },
         "type": "linear"
        },
        "yaxis": {
         "anchor": "x",
         "autorange": true,
         "domain": [
          0,
          1
         ],
         "range": [
          -5768445.530242719,
          75668446.52024272
         ],
         "title": {
          "text": "Revenue"
         },
         "type": "linear"
        }
       }
      },
      "image/png": "[encoded data removed]",
      "text/html": [
       "<div>                            <div id=\"202679a6-1532-40e2-a674-03eda54eee9d\" class=\"plotly-graph-div\" style=\"height:525px; width:100%;\"></div>            <script type=\"text/javascript\">                require([\"plotly\"], function(Plotly) {                    window.PLOTLYENV=window.PLOTLYENV || {};                                    if (document.getElementById(\"202679a6-1532-40e2-a674-03eda54eee9d\")) {                    Plotly.newPlot(                        \"202679a6-1532-40e2-a674-03eda54eee9d\",                        [{\"hovertemplate\":\"Category=BUSINESS\\u003cbr\\u003eInstalls=%{x}\\u003cbr\\u003eRevenue=%{y}\\u003cextra\\u003e\\u003c\\u002fextra\\u003e\",\"legendgroup\":\"BUSINESS\",\"marker\":{\"color\":\"#636efa\",\"symbol\":\"circle\"},\"mode\":\"markers\",\"name\":\"BUSINESS\",\"orientation\":\"v\",\"showlegend\":true,\"x\":[100000,100000,500,1000,10000,1000,50,10,100],\"xaxis\":\"x\",\"y\":[499000.0,499000.0,8995.0,3990.0,29900.000000000004,4990.0,449.5,24.900000000000002,1299.0],\"yaxis\":\"y\",\"type\":\"scatter\"},{\"hovertemplate\":\"\\u003cb\\u003eOLS trendline\\u003c\\u002fb\\u003e\\u003cbr\\u003eRevenue = 4.99809 * Installs + -1693.85\\u003cbr\\u003eR\\u003csup\\u003e2\\u003c\\u002fsup\\u003e=0.998879\\u003cbr\\u003e\\u003cbr\\u003eCategory=BUSINESS\\u003cbr\\u003eInstalls=%{x}\\u003cbr\\u003eRevenue=%{y} \\u003cb\\u003e(trend)\\u003c\\u002fb\\u003e\\u003cextra\\u003e\\u003c\\u002fextra\\u003e\",\"legendgroup\":\"BUSINESS\",\"marker\":{\"color\":\"#636efa\",\"symbol\":\"circle\"},\"mode\":\"lines\",\"name\":\"BUSINESS\",\"showlegend\":false,\"x\":[10,50,100,500,1000,1000,10000,100000,100000],\"xaxis\":\"x\",\"y\":[-1643.8680649736177,-1443.9446115070398,-1194.0402946738172,805.1942399919635,3304.2374083241893,3304.2374083241893,48287.01443830426,498114.7847381049,498114.7847381049],\"yaxis\":\"y\",\"type\":\"scatter\"},{\"hovertemplate\":\"Category=COMMUNICATION\\u003cbr\\u003eInstalls=%{x}\\u003cbr\\u003eRevenue=%{y}\\u003cextra\\u003e\\u003c\\u002fextra\\u003e\",\"legendgroup\":\"COMMUNICATION\",\"marker\":{\"color\":\"#EF553B\",\"symbol\":\"circle\"},\"mode\":\"markers\",\"name\":\"COMMUNICATION\",\"orientation\":\"v\",\"showlegend\":true,\"x\":[100000,500,10000,500,500,1000000,100,1000,100,100,5000,100,100,10000,5000,1000,100000,5000,100000,10000,10000,1000],\"xaxis\":\"x\",\"y\":[399000.0,1995.0,49900.0,495.0,2495.0,2990000.0,149.0,990.0,149.0,149.0,24950.0,99.0,149.0,29900.000000000004,4950.0,2490.0,290000.0,7450.0,399000.0,29900.000000000004,9900.0,2990.0],\"yaxis\":\"y\",\"type\":\"scatter\"},{\"hovertemplate\":\"\\u003cb\\u003eOLS trendline\\u003c\\u002fb\\u003e\\u003cbr\\u003eRevenue = 2.99834 * Installs + 7698.29\\u003cbr\\u003eR\\u003csup\\u003e2\\u003c\\u002fsup\\u003e=0.997702\\u003cbr\\u003e\\u003cbr\\u003eCategory=COMMUNICATION\\u003cbr\\u003eInstalls=%{x}\\u003cbr\\u003eRevenue=%{y} \\u003cb\\u003e(trend)\\u003c\\u002fb\\u003e\\u003cextra\\u003e\\u003c\\u002fextra\\u003e\",\"legendgroup\":\"COMMUNICATION\",\"marker\":{\"color\":\"#EF553B\",\"symbol\":\"circle\"},\"mode\":\"lines\",\"name\":\"COMMUNICATION\",\"showlegend\":false,\"x\":[100,100,100,100,100,500,500,500,1000,1000,1000,5000,5000,5000,10000,10000,10000,10000,100000,100000,100000,1000000],\"xaxis\":\"x\",\"y\":[7998.12858921948,7998.12858921948,7998.12858921948,7998.12858921948,7998.12858921948,9197.463151316158,9197.463151316158,9197.463151316158,10696.631353937004,10696.631353937004,10696.631353937004,22689.976974903777,22689.976974903777,22689.976974903777,37681.659001112246,37681.659001112246,37681.659001112246,37681.659001112246,307531.9354728646,307531.9354728646,307531.9354728646,3006034.7001903886],\"yaxis\":\"y\",\"type\":\"scatter\"},{\"hovertemplate\":\"Category=DATING\\u003cbr\\u003eInstalls=%{x}\\u003cbr\\u003eRevenue=%{y}\\u003cextra\\u003e\\u003c\\u002fextra\\u003e\",\"legendgroup\":\"DATING\",\"marker\":{\"color\":\"#00cc96\",\"symbol\":\"circle\"},\"mode\":\"markers\",\"name\":\"DATING\",\"orientation\":\"v\",\"showlegend\":true,\"x\":[10000,1000,100,10000],\"xaxis\":\"x\",\"y\":[39900.0,6990.0,799.0,39900.0],\"yaxis\":\"y\",\"type\":\"scatter\"},{\"hovertemplate\":\"\\u003cb\\u003eOLS trendline\\u003c\\u002fb\\u003e\\u003cbr\\u003eRevenue = 3.82396 * Installs + 1725.86\\u003cbr\\u003eR\\u003csup\\u003e2\\u003c\\u002fsup\\u003e=0.997114\\u003cbr\\u003e\\u003cbr\\u003eCategory=DATING\\u003cbr\\u003eInstalls=%{x}\\u003cbr\\u003eRevenue=%{y} \\u003cb\\u003e(trend)\\u003c\\u002fb\\u003e\\u003cextra\\u003e\\u003c\\u002fextra\\u003e\",\"legendgroup\":\"DATING\",\"marker\":{\"color\":\"#00cc96\",\"symbol\":\"circle\"},\"mode\":\"lines\",\"name\":\"DATING\",\"showlegend\":false,\"x\":[100,1000,10000,10000],\"xaxis\":\"x\",\"y\":[2108.255079006776,5549.819413092554,39965.46275395033,39965.46275395033],\"yaxis\":\"y\",\"type\":\"scatter\"},{\"hovertemplate\":\"Category=EDUCATION\\u003cbr\\u003eInstalls=%{x}\\u003cbr\\u003eRevenue=%{y}\\u003cextra\\u003e\\u003c\\u002fextra\\u003e\",\"legendgroup\":\"EDUCATION\",\"marker\":{\"color\":\"#ab63fa\",\"symbol\":\"circle\"},\"mode\":\"markers\",\"name\":\"EDUCATION\",\"orientation\":\"v\",\"showlegend\":true,\"x\":[1000,1000,500000,100000],\"xaxis\":\"x\",\"y\":[3990.0,5990.0,1995000.0,399000.0],\"yaxis\":\"y\",\"type\":\"scatter\"},{\"hovertemplate\":\"\\u003cb\\u003eOLS trendline\\u003c\\u002fb\\u003e\\u003cbr\\u003eRevenue = 3.98823 * Installs + 765.639\\u003cbr\\u003eR\\u003csup\\u003e2\\u003c\\u002fsup\\u003e=0.999999\\u003cbr\\u003e\\u003cbr\\u003eCategory=EDUCATION\\u003cbr\\u003eInstalls=%{x}\\u003cbr\\u003eRevenue=%{y} \\u003cb\\u003e(trend)\\u003c\\u002fb\\u003e\\u003cextra\\u003e\\u003c\\u002fextra\\u003e\",\"legendgroup\":\"EDUCATION\",\"marker\":{\"color\":\"#ab63fa\",\"symbol\":\"circle\"},\"mode\":\"lines\",\"name\":\"EDUCATION\",\"showlegend\":false,\"x\":[1000,1000,100000,500000],\"xaxis\":\"x\",\"y\":[4753.873885042054,4753.873885042054,399589.1346568201,1994883.1175730953],\"yaxis\":\"y\",\"type\":\"scatter\"},{\"hovertemplate\":\"Category=ENTERTAINMENT\\u003cbr\\u003eInstalls=%{x}\\u003cbr\\u003eRevenue=%{y}\\u003cextra\\u003e\\u003c\\u002fextra\\u003e\",\"legendgroup\":\"ENTERTAINMENT\",\"marker\":{\"color\":\"#FFA15A\",\"symbol\":\"circle\"},\"mode\":\"markers\",\"name\":\"ENTERTAINMENT\",\"orientation\":\"v\",\"showlegend\":true,\"x\":[100000,100000],\"xaxis\":\"x\",\"y\":[499000.0,299000.0],\"yaxis\":\"y\",\"type\":\"scatter\"},{\"hovertemplate\":\"\\u003cb\\u003eOLS trendline\\u003c\\u002fb\\u003e\\u003cbr\\u003eRevenue = 3.99\\u003cbr\\u003eR\\u003csup\\u003e2\\u003c\\u002fsup\\u003e=0.000000\\u003cbr\\u003e\\u003cbr\\u003eCategory=ENTERTAINMENT\\u003cbr\\u003eInstalls=%{x}\\u003cbr\\u003eRevenue=%{y} \\u003cb\\u003e(trend)\\u003c\\u002fb\\u003e\\u003cextra\\u003e\\u003c\\u002fextra\\u003e\",\"legendgroup\":\"ENTERTAINMENT\",\"marker\":{\"color\":\"#FFA15A\",\"symbol\":\"circle\"},\"mode\":\"lines\",\"name\":\"ENTERTAINMENT\",\"showlegend\":false,\"x\":[100000,100000],\"xaxis\":\"x\",\"y\":[398999.99999999994,398999.99999999994],\"yaxis\":\"y\",\"type\":\"scatter\"},{\"hovertemplate\":\"Category=FOOD_AND_DRINK\\u003cbr\\u003eInstalls=%{x}\\u003cbr\\u003eRevenue=%{y}\\u003cextra\\u003e\\u003c\\u002fextra\\u003e\",\"legendgroup\":\"FOOD_AND_DRINK\",\"marker\":{\"color\":\"#19d3f3\",\"symbol\":\"circle\"},\"mode\":\"markers\",\"name\":\"FOOD_AND_DRINK\",\"orientation\":\"v\",\"showlegend\":true,\"x\":[10000,50000],\"xaxis\":\"x\",\"y\":[34900.0,249500.0],\"yaxis\":\"y\",\"type\":\"scatter\"},{\"hovertemplate\":\"\\u003cb\\u003eOLS trendline\\u003c\\u002fb\\u003e\\u003cbr\\u003eRevenue = 5.365 * Installs + -18750\\u003cbr\\u003eR\\u003csup\\u003e2\\u003c\\u002fsup\\u003e=1.000000\\u003cbr\\u003e\\u003cbr\\u003eCategory=FOOD_AND_DRINK\\u003cbr\\u003eInstalls=%{x}\\u003cbr\\u003eRevenue=%{y} \\u003cb\\u003e(trend)\\u003c\\u002fb\\u003e\\u003cextra\\u003e\\u003c\\u002fextra\\u003e\",\"legendgroup\":\"FOOD_AND_DRINK\",\"marker\":{\"color\":\"#19d3f3\",\"symbol\":\"circle\"},\"mode\":\"lines\",\"name\":\"FOOD_AND_DRINK\",\"showlegend\":false,\"x\":[10000,50000],\"xaxis\":\"x\",\"y\":[34900.000000000015,249500.0],\"yaxis\":\"y\",\"type\":\"scatter\"},{\"hovertemplate\":\"Category=HEALTH_AND_FITNESS\\u003cbr\\u003eInstalls=%{x}\\u003cbr\\u003eRevenue=%{y}\\u003cextra\\u003e\\u003c\\u002fextra\\u003e\",\"legendgroup\":\"HEALTH_AND_FITNESS\",\"marker\":{\"color\":\"#FF6692\",\"symbol\":\"circle\"},\"mode\":\"markers\",\"name\":\"HEALTH_AND_FITNESS\",\"orientation\":\"v\",\"showlegend\":true,\"x\":[100000,10000,100000,50000,50000,50000,1000,100000,1000,10000,1000],\"xaxis\":\"x\",\"y\":[299000.0,39900.0,299000.0,99500.0,149500.0,99500.0,1990.0,349000.0,4990.0,69900.0,7990.0],\"yaxis\":\"y\",\"type\":\"scatter\"},{\"hovertemplate\":\"\\u003cb\\u003eOLS trendline\\u003c\\u002fb\\u003e\\u003cbr\\u003eRevenue = 3.00428 * Installs + -68.6897\\u003cbr\\u003eR\\u003csup\\u003e2\\u003c\\u002fsup\\u003e=0.944420\\u003cbr\\u003e\\u003cbr\\u003eCategory=HEALTH_AND_FITNESS\\u003cbr\\u003eInstalls=%{x}\\u003cbr\\u003eRevenue=%{y} \\u003cb\\u003e(trend)\\u003c\\u002fb\\u003e\\u003cextra\\u003e\\u003c\\u002fextra\\u003e\",\"legendgroup\":\"HEALTH_AND_FITNESS\",\"marker\":{\"color\":\"#FF6692\",\"symbol\":\"circle\"},\"mode\":\"lines\",\"name\":\"HEALTH_AND_FITNESS\",\"showlegend\":false,\"x\":[1000,1000,1000,10000,10000,50000,50000,50000,100000,100000,100000],\"xaxis\":\"x\",\"y\":[2935.5927624552187,2935.5927624552187,2935.5927624552187,29974.13457309793,29974.13457309793,150145.43150928777,150145.43150928777,150145.43150928777,300359.55267952505,300359.55267952505,300359.55267952505],\"yaxis\":\"y\",\"type\":\"scatter\"},{\"hovertemplate\":\"Category=GAME\\u003cbr\\u003eInstalls=%{x}\\u003cbr\\u003eRevenue=%{y}\\u003cextra\\u003e\\u003c\\u002fextra\\u003e\",\"legendgroup\":\"GAME\",\"marker\":{\"color\":\"#B6E880\",\"symbol\":\"circle\"},\"mode\":\"markers\",\"name\":\"GAME\",\"orientation\":\"v\",\"showlegend\":true,\"x\":[100000,100000,100000,100000,100000,100000,100000,100000,100000,100,1000,10000000,10000,1000,10000,1000,1000,5000,10000,50000,100000,100000,10000,1000,50000,1000000,500000,1000,100000,50000,10000,1000,1000000,100000,100000,100000,1,1000,50000,10000,500,100,10000,5000,1000,100000,1000,10000,1000000,100,10,50000,10000,1000,100,100000,100,1000000,100000,10000,10000,50,1000000,1000000,1000000,1000,1000,100000,5000,100000,100000,100,100,100000,1000000,1,10000],\"xaxis\":\"x\",\"y\":[299000.0,199000.0,499000.0,499000.0,499000.0,599000.0,699000.0,999000.0,499000.0,99.0,1990.0,9900000.0,179899.99999999997,4990.0,9900.0,990.0,2490.0,9950.0,49900.0,99500.0,199000.0,499000.0,49900.0,1610.0,49500.0,990000.0,995000.0,3990.0,99000.0,99500.0,49900.0,990.0,2990000.0,299000.0,299000.0,299000.0,1.49,990.0,249500.0,79900.0,2245.0,1400.0,19900.0,34950.0,6990.0,299000.0,3490.0,49900.0,6990000.0,99.0,9.9,249500.0,29900.000000000004,990.0,449.0,199000.0,499.0,4990000.0,299000.0,39900.0,29900.000000000004,99.5,990000.0,990000.0,990000.0,990.0,1990.0,299000.0,4950.0,399000.0,299000.0,99.0,199.0,299000.0,990000.0,0.99,169899.99999999997],\"yaxis\":\"y\",\"type\":\"scatter\"},{\"hovertemplate\":\"\\u003cb\\u003eOLS trendline\\u003c\\u002fb\\u003e\\u003cbr\\u003eRevenue = 1.06219 * Installs + 241239\\u003cbr\\u003eR\\u003csup\\u003e2\\u003c\\u002fsup\\u003e=0.684850\\u003cbr\\u003e\\u003cbr\\u003eCategory=GAME\\u003cbr\\u003eInstalls=%{x}\\u003cbr\\u003eRevenue=%{y} \\u003cb\\u003e(trend)\\u003c\\u002fb\\u003e\\u003cextra\\u003e\\u003c\\u002fextra\\u003e\",\"legendgroup\":\"GAME\",\"marker\":{\"color\":\"#B6E880\",\"symbol\":\"circle\"},\"mode\":\"lines\",\"name\":\"GAME\",\"showlegend\":false,\"x\":[1,1,10,50,100,100,100,100,100,100,100,500,1000,1000,1000,1000,1000,1000,1000,1000,1000,1000,1000,1000,1000,5000,5000,5000,10000,10000,10000,10000,10000,10000,10000,10000,10000,10000,10000,10000,50000,50000,50000,50000,50000,100000,100000,100000,100000,100000,100000,100000,100000,100000,100000,100000,100000,100000,100000,100000,100000,100000,100000,100000,100000,100000,100000,500000,1000000,1000000,1000000,1000000,1000000,1000000,1000000,1000000,10000000],\"xaxis\":\"x\",\"y\":[241239.74074884795,241239.74074884795,241249.3004748554,241291.78814599974,241344.8977349302,241344.8977349302,241344.8977349302,241344.8977349302,241344.8977349302,241344.8977349302,241344.8977349302,241769.77444637354,242300.87033567778,242300.87033567778,242300.87033567778,242300.87033567778,242300.87033567778,242300.87033567778,242300.87033567778,242300.87033567778,242300.87033567778,242300.87033567778,242300.87033567778,242300.87033567778,242300.87033567778,246549.63745011156,246549.63745011156,246549.63745011156,251860.59634315383,251860.59634315383,251860.59634315383,251860.59634315383,251860.59634315383,251860.59634315383,251860.59634315383,251860.59634315383,251860.59634315383,251860.59634315383,251860.59634315383,251860.59634315383,294348.2674874918,294348.2674874918,294348.2674874918,294348.2674874918,294348.2674874918,347457.8564179142,347457.8564179142,347457.8564179142,347457.8564179142,347457.8564179142,347457.8564179142,347457.8564179142,347457.8564179142,347457.8564179142,347457.8564179142,347457.8564179142,347457.8564179142,347457.8564179142,347457.8564179142,347457.8564179142,347457.8564179142,347457.8564179142,347457.8564179142,347457.8564179142,347457.8564179142,347457.8564179142,347457.8564179142,772334.5678612937,1303430.457165518,1303430.457165518,1303430.457165518,1303430.457165518,1303430.457165518,1303430.457165518,1303430.457165518,1303430.457165518,10863156.464641558],\"yaxis\":\"y\",\"type\":\"scatter\"},{\"hovertemplate\":\"Category=FAMILY\\u003cbr\\u003eInstalls=%{x}\\u003cbr\\u003eRevenue=%{y}\\u003cextra\\u003e\\u003c\\u002fextra\\u003e\",\"legendgroup\":\"FAMILY\",\"marker\":{\"color\":\"#FF97FF\",\"symbol\":\"circle\"},\"mode\":\"markers\",\"name\":\"FAMILY\",\"orientation\":\"v\",\"showlegend\":true,\"x\":[5000,5000,1000,500,100000,500000,10000,10000,1000,1000,1000,100,100,1000,5000,5000,1000,10000,10000,5000,1000,10000,10000,50000,10000000,1000000,50000,100000,10,100000,100,1000000,500,1000,1000,100,10000000,5000,100000,10000,10000,100000,10000,10000,100,1000,100000,50000,10000,5000,10000,100000,10000,100000,50000,10000,1000,5000,5000,5000,500,10,10000,5000,10000,100000,100000,1000,100,100,10,10,500000,100,50,1000,100000,100,100000,50000,50000,100,10,1000,1000,1000,1000,1000000,5000,500000,10000,100,1000,50000,1000,10000,10,10000,100000,100000,100000,10000,10000,10000,5000,100,10,500,1000,100000,10000,10000,50000,10000,100,50,5000,50000,10000,100000,10000,100000,100000,100000,10000,500,50000,100000,50000,10000,50000,100000,50000,50,1000000,100000,10,100,50,10000,10000,500000,1000,10000,50,1000,500000,10000,1000000,50000,1000,500,50000,10000,100000,100000,100,10000],\"xaxis\":\"x\",\"y\":[19950.0,14950.000000000002,3990.0,1495.0,399000.0,1995000.0,49900.0,39900.0,2990.0,7490.0,2990.0,99.0,99.0,990.0,24950.0,14950.000000000002,4990.0,29900.000000000004,49900.0,24950.0,2990.0,29900.000000000004,39900.0,199500.0,69900000.0,2990000.0,149500.0,299000.0,29.900000000000002,499000.0,39999.0,990000.0,995.0,1990.0,5990.0,399.0,69900000.0,14950.000000000002,299000.0,29900.000000000004,39900.0,299000.0,19900.0,24900.000000000004,149.0,4840.0,499000.0,238499.99999999997,49900.0,29950.0,9900.0,799000.0,149900.0,149000.0,149500.0,15900.0,990.0,24950.0,4950.0,9950.0,1245.0,49.900000000000006,3999900.0,1999950.0,3899900.0,299000.0,299000.0,2990.0,999.0,499.0,49.900000000000006,299.9,1495000.0,99.0,74.5,990.0,999000.0,399.0,499000.0,499500.0,249500.0,299.0,149.9,2990.0,2490.0,2490.0,2990.0,990000.0,7450.0,495000.0,29900.000000000004,499.0,2990.0,49500.0,19400.0,149900.0,199.89999999999998,39900.0,299000.0,399000.0,99000.0,19900.0,29900.000000000004,29900.000000000004,14950.000000000002,199.0,14.9,2495.0,10000.0,499000.0,29900.000000000004,29900.000000000004,249500.0,39900.0,1299.0,49.5,22450.0,999499.9999999999,99900.0,299000.0,49900.0,1499000.0,999000.0,1399000.0,29900.000000000004,1495.0,149500.0,199000.0,199500.0,39900.0,149500.0,299000.0,149500.0,149.5,2990000.0,99000.0,9.9,99.0,74.5,29900.000000000004,14900.0,2495000.0,10990.0,129900.0,149.5,1990.0,1495000.0,9900.0,1990000.0,149500.0,2990.0,995.0,249500.0,9900.0,999000.0,99000.0,199.0,12000.0],\"yaxis\":\"y\",\"type\":\"scatter\"},{\"hovertemplate\":\"\\u003cb\\u003eOLS trendline\\u003c\\u002fb\\u003e\\u003cbr\\u003eRevenue = 6.87092 * Installs + -180909\\u003cbr\\u003eR\\u003csup\\u003e2\\u003c\\u002fsup\\u003e=0.981391\\u003cbr\\u003e\\u003cbr\\u003eCategory=FAMILY\\u003cbr\\u003eInstalls=%{x}\\u003cbr\\u003eRevenue=%{y} \\u003cb\\u003e(trend)\\u003c\\u002fb\\u003e\\u003cextra\\u003e\\u003c\\u002fextra\\u003e\",\"legendgroup\":\"FAMILY\",\"marker\":{\"color\":\"#FF97FF\",\"symbol\":\"circle\"},\"mode\":\"lines\",\"name\":\"FAMILY\",\"showlegend\":false,\"x\":[10,10,10,10,10,10,10,10,50,50,50,50,50,100,100,100,100,100,100,100,100,100,100,100,100,100,100,100,500,500,500,500,500,500,1000,1000,1000,1000,1000,1000,1000,1000,1000,1000,1000,1000,1000,1000,1000,1000,1000,1000,1000,1000,1000,1000,1000,5000,5000,5000,5000,5000,5000,5000,5000,5000,5000,5000,5000,5000,5000,10000,10000,10000,10000,10000,10000,10000,10000,10000,10000,10000,10000,10000,10000,10000,10000,10000,10000,10000,10000,10000,10000,10000,10000,10000,10000,10000,10000,10000,10000,10000,10000,10000,10000,10000,50000,50000,50000,50000,50000,50000,50000,50000,50000,50000,50000,50000,50000,50000,50000,100000,100000,100000,100000,100000,100000,100000,100000,100000,100000,100000,100000,100000,100000,100000,100000,100000,100000,100000,100000,100000,100000,100000,100000,100000,500000,500000,500000,500000,500000,1000000,1000000,1000000,1000000,1000000,10000000,10000000],\"xaxis\":\"x\",\"y\":[-180840.05557524267,-180840.05557524267,-180840.05557524267,-180840.05557524267,-180840.05557524267,-180840.05557524267,-180840.05557524267,-180840.05557524267,-180565.21866313834,-180565.21866313834,-180565.21866313834,-180565.21866313834,-180565.21866313834,-180221.67252300787,-180221.67252300787,-180221.67252300787,-180221.67252300787,-180221.67252300787,-180221.67252300787,-180221.67252300787,-180221.67252300787,-180221.67252300787,-180221.67252300787,-180221.67252300787,-180221.67252300787,-180221.67252300787,-180221.67252300787,-180221.67252300787,-177473.3034019643,-177473.3034019643,-177473.3034019643,-177473.3034019643,-177473.3034019643,-177473.3034019643,-174037.84200065985,-174037.84200065985,-174037.84200065985,-174037.84200065985,-174037.84200065985,-174037.84200065985,-174037.84200065985,-174037.84200065985,-174037.84200065985,-174037.84200065985,-174037.84200065985,-174037.84200065985,-174037.84200065985,-174037.84200065985,-174037.84200065985,-174037.84200065985,-174037.84200065985,-174037.84200065985,-174037.84200065985,-174037.84200065985,-174037.84200065985,-174037.84200065985,-174037.84200065985,-146554.15079022417,-146554.15079022417,-146554.15079022417,-146554.15079022417,-146554.15079022417,-146554.15079022417,-146554.15079022417,-146554.15079022417,-146554.15079022417,-146554.15079022417,-146554.15079022417,-146554.15079022417,-146554.15079022417,-146554.15079022417,-112199.53677717959,-112199.53677717959,-112199.53677717959,-112199.53677717959,-112199.53677717959,-112199.53677717959,-112199.53677717959,-112199.53677717959,-112199.53677717959,-112199.53677717959,-112199.53677717959,-112199.53677717959,-112199.53677717959,-112199.53677717959,-112199.53677717959,-112199.53677717959,-112199.53677717959,-112199.53677717959,-112199.53677717959,-112199.53677717959,-112199.53677717959,-112199.53677717959,-112199.53677717959,-112199.53677717959,-112199.53677717959,-112199.53677717959,-112199.53677717959,-112199.53677717959,-112199.53677717959,-112199.53677717959,-112199.53677717959,-112199.53677717959,-112199.53677717959,-112199.53677717959,-112199.53677717959,162637.3753271771,162637.3753271771,162637.3753271771,162637.3753271771,162637.3753271771,162637.3753271771,162637.3753271771,162637.3753271771,162637.3753271771,162637.3753271771,162637.3753271771,162637.3753271771,162637.3753271771,162637.3753271771,162637.3753271771,506183.515457623,506183.515457623,506183.515457623,506183.515457623,506183.515457623,506183.515457623,506183.515457623,506183.515457623,506183.515457623,506183.515457623,506183.515457623,506183.515457623,506183.515457623,506183.515457623,506183.515457623,506183.515457623,506183.515457623,506183.515457623,506183.515457623,506183.515457623,506183.515457623,506183.515457623,506183.515457623,506183.515457623,506183.515457623,3254552.6365011903,3254552.6365011903,3254552.6365011903,3254552.6365011903,3254552.6365011903,6690014.037805649,6690014.037805649,6690014.037805649,6690014.037805649,6690014.037805649,68528319.2612859,68528319.2612859],\"yaxis\":\"y\",\"type\":\"scatter\"},{\"hovertemplate\":\"Category=MEDICAL\\u003cbr\\u003eInstalls=%{x}\\u003cbr\\u003eRevenue=%{y}\\u003cextra\\u003e\\u003c\\u002fextra\\u003e\",\"legendgroup\":\"MEDICAL\",\"marker\":{\"color\":\"#FECB52\",\"symbol\":\"circle\"},\"mode\":\"markers\",\"name\":\"MEDICAL\",\"orientation\":\"v\",\"showlegend\":true,\"x\":[100000,10000,10000,10000,10000,10000,5000,5000,100000,50000,1000,10000,50000,1000,1000,10000,1000,1000,1000,100,5000,5000,1000,10000,1000,100,1000,500,5000,1000,500,1000,5000,10000,1000,10000,1000,5000,10000,1000,1000,100,50000,1000,1000,5000,5000,1000,10000,1000,10000,1000,1000,500,500,1000,5000,100,500,1000,1000,100,500,100000],\"xaxis\":\"x\",\"y\":[900000.0,9900.0,54900.0,99900.0,69900.0,100000.0,19950.0,29950.0,2499000.0,599500.0,79990.0,119900.0,149500.0,16990.0,3990.0,29900.000000000004,9990.0,3990.0,14990.0,299.0,19950.0,14950.000000000002,29990.0,29900.000000000004,2990.0,1299.0,4990.0,1495.0,74950.0,5990.0,1745.0,990.0,12450.000000000002,249899.99999999997,10990.0,19900.0,4990.0,19950.0,29900.000000000004,7490.0,1500.0,299.0,199500.0,1990.0,9990.0,19950.0,19950.0,3990.0,79900.0,9990.0,39900.0,19990.0,29990.0,7995.0,495.0,33990.0,4950.0,3999.0,2995.0,5490.0,15460.0,699.0,1995.0,2499000.0],\"yaxis\":\"y\",\"type\":\"scatter\"},{\"hovertemplate\":\"\\u003cb\\u003eOLS trendline\\u003c\\u002fb\\u003e\\u003cbr\\u003eRevenue = 17.3908 * Installs + -47861.3\\u003cbr\\u003eR\\u003csup\\u003e2\\u003c\\u002fsup\\u003e=0.765921\\u003cbr\\u003e\\u003cbr\\u003eCategory=MEDICAL\\u003cbr\\u003eInstalls=%{x}\\u003cbr\\u003eRevenue=%{y} \\u003cb\\u003e(trend)\\u003c\\u002fb\\u003e\\u003cextra\\u003e\\u003c\\u002fextra\\u003e\",\"legendgroup\":\"MEDICAL\",\"marker\":{\"color\":\"#FECB52\",\"symbol\":\"circle\"},\"mode\":\"lines\",\"name\":\"MEDICAL\",\"showlegend\":false,\"x\":[100,100,100,100,100,500,500,500,500,500,500,1000,1000,1000,1000,1000,1000,1000,1000,1000,1000,1000,1000,1000,1000,1000,1000,1000,1000,1000,1000,1000,1000,1000,1000,5000,5000,5000,5000,5000,5000,5000,5000,5000,5000,10000,10000,10000,10000,10000,10000,10000,10000,10000,10000,10000,10000,10000,50000,50000,50000,100000,100000,100000],\"xaxis\":\"x\",\"y\":[-46122.175825216334,-46122.175825216334,-46122.175825216334,-46122.175825216334,-46122.175825216334,-39165.84085190111,-39165.84085190111,-39165.84085190111,-39165.84085190111,-39165.84085190111,-39165.84085190111,-30470.422135257097,-30470.422135257097,-30470.422135257097,-30470.422135257097,-30470.422135257097,-30470.422135257097,-30470.422135257097,-30470.422135257097,-30470.422135257097,-30470.422135257097,-30470.422135257097,-30470.422135257097,-30470.422135257097,-30470.422135257097,-30470.422135257097,-30470.422135257097,-30470.422135257097,-30470.422135257097,-30470.422135257097,-30470.422135257097,-30470.422135257097,-30470.422135257097,-30470.422135257097,-30470.422135257097,39092.927597895075,39092.927597895075,39092.927597895075,39092.927597895075,39092.927597895075,39092.927597895075,39092.927597895075,39092.927597895075,39092.927597895075,39092.927597895075,126047.11476433529,126047.11476433529,126047.11476433529,126047.11476433529,126047.11476433529,126047.11476433529,126047.11476433529,126047.11476433529,126047.11476433529,126047.11476433529,126047.11476433529,126047.11476433529,126047.11476433529,821680.6120958569,821680.6120958569,821680.6120958569,1691222.483760259,1691222.483760259,1691222.483760259],\"yaxis\":\"y\",\"type\":\"scatter\"},{\"hovertemplate\":\"Category=PHOTOGRAPHY\\u003cbr\\u003eInstalls=%{x}\\u003cbr\\u003eRevenue=%{y}\\u003cextra\\u003e\\u003c\\u002fextra\\u003e\",\"legendgroup\":\"PHOTOGRAPHY\",\"marker\":{\"color\":\"#636efa\",\"symbol\":\"circle\"},\"mode\":\"markers\",\"name\":\"PHOTOGRAPHY\",\"orientation\":\"v\",\"showlegend\":true,\"x\":[1000000,100000,100000,10000,500,1000,1000,1000,5000,50000,100000,100000,10,500000,10000,10],\"xaxis\":\"x\",\"y\":[5990000.0,299000.0,395000.0,49900.0,745.0,9990.0,19990.0,2990.0,14950.000000000002,99500.0,395000.0,149000.0,34.900000000000006,1495000.0,19900.0,49.900000000000006],\"yaxis\":\"y\",\"type\":\"scatter\"},{\"hovertemplate\":\"\\u003cb\\u003eOLS trendline\\u003c\\u002fb\\u003e\\u003cbr\\u003eRevenue = 5.49721 * Installs + -120955\\u003cbr\\u003eR\\u003csup\\u003e2\\u003c\\u002fsup\\u003e=0.943855\\u003cbr\\u003e\\u003cbr\\u003eCategory=PHOTOGRAPHY\\u003cbr\\u003eInstalls=%{x}\\u003cbr\\u003eRevenue=%{y} \\u003cb\\u003e(trend)\\u003c\\u002fb\\u003e\\u003cextra\\u003e\\u003c\\u002fextra\\u003e\",\"legendgroup\":\"PHOTOGRAPHY\",\"marker\":{\"color\":\"#636efa\",\"symbol\":\"circle\"},\"mode\":\"lines\",\"name\":\"PHOTOGRAPHY\",\"showlegend\":false,\"x\":[10,10,500,1000,1000,1000,5000,10000,10000,50000,100000,100000,100000,100000,500000,1000000],\"xaxis\":\"x\",\"y\":[-120900.13812908319,-120900.13812908319,-118206.50730105795,-115457.90441531791,-115457.90441531791,-115457.90441531791,-93469.08132939758,-65983.05247199719,-65983.05247199719,153905.17838720605,428765.46696121007,428765.46696121007,428765.46696121007,428765.46696121007,2627647.7755532423,5376250.661293283],\"yaxis\":\"y\",\"type\":\"scatter\"},{\"hovertemplate\":\"Category=SPORTS\\u003cbr\\u003eInstalls=%{x}\\u003cbr\\u003eRevenue=%{y}\\u003cextra\\u003e\\u003c\\u002fextra\\u003e\",\"legendgroup\":\"SPORTS\",\"marker\":{\"color\":\"#EF553B\",\"symbol\":\"circle\"},\"mode\":\"markers\",\"name\":\"SPORTS\",\"orientation\":\"v\",\"showlegend\":true,\"x\":[50000,100,100,50000,1000000,5000,1000,1000,1000,1000,1000,100,10000,1000,5000,5000,500,1000,1000,5000,5000,100000],\"xaxis\":\"x\",\"y\":[1499500.0,388.0,302.0,199500.0,1990000.0,14950.000000000002,4490.0,3990.0,2990.0,990.0,990.0,349.0,49900.0,2990.0,9950.0,5000.0,1495.0,2490.0,1990.0,4950.0,9950.0,899000.0],\"yaxis\":\"y\",\"type\":\"scatter\"},{\"hovertemplate\":\"\\u003cb\\u003eOLS trendline\\u003c\\u002fb\\u003e\\u003cbr\\u003eRevenue = 2.01026 * Installs + 100263\\u003cbr\\u003eR\\u003csup\\u003e2\\u003c\\u002fsup\\u003e=0.630862\\u003cbr\\u003e\\u003cbr\\u003eCategory=SPORTS\\u003cbr\\u003eInstalls=%{x}\\u003cbr\\u003eRevenue=%{y} \\u003cb\\u003e(trend)\\u003c\\u002fb\\u003e\\u003cextra\\u003e\\u003c\\u002fextra\\u003e\",\"legendgroup\":\"SPORTS\",\"marker\":{\"color\":\"#EF553B\",\"symbol\":\"circle\"},\"mode\":\"lines\",\"name\":\"SPORTS\",\"showlegend\":false,\"x\":[100,100,100,500,1000,1000,1000,1000,1000,1000,1000,1000,5000,5000,5000,5000,5000,10000,50000,50000,100000,1000000],\"xaxis\":\"x\",\"y\":[100464.06227190892,100464.06227190892,100464.06227190892,101268.16814498173,102273.30048632274,102273.30048632274,102273.30048632274,102273.30048632274,102273.30048632274,102273.30048632274,102273.30048632274,102273.30048632274,110314.35921705085,110314.35921705085,110314.35921705085,110314.35921705085,110314.35921705085,120365.68263046097,200776.26993774204,200776.26993774204,301289.5040718434,2110527.7184856674],\"yaxis\":\"y\",\"type\":\"scatter\"},{\"hovertemplate\":\"Category=PERSONALIZATION\\u003cbr\\u003eInstalls=%{x}\\u003cbr\\u003eRevenue=%{y}\\u003cextra\\u003e\\u003c\\u002fextra\\u003e\",\"legendgroup\":\"PERSONALIZATION\",\"marker\":{\"color\":\"#00cc96\",\"symbol\":\"circle\"},\"mode\":\"markers\",\"name\":\"PERSONALIZATION\",\"orientation\":\"v\",\"showlegend\":true,\"x\":[1000000,1000000,10000,10000,100000,5000,1000,10000,10000,100000,1000,5000,500,500,100000,1000,10000,5000,100,100,1000,100,500,100,100,100,100,5000,100,1000,1000,10000,10000,10000,1000,100,50,10,50,500,10000,100000,500,1000,1000000,1000,1000,1000,1000,1000,10,100000,10000,100,100,10000,50000,100,50,1000,10000,500000,50000,500,50,100],\"xaxis\":\"x\",\"y\":[2490000.0,990000.0,9900.0,99900.0,449000.0,9950.0,1700.0,29900.000000000004,9900.0,99000.0,1700.0,4950.0,745.0,745.0,299000.0,2490.0,9900.0,34950.0,199.0,99.0,1490.0,99.0,745.0,149.0,149.0,149.0,99.0,7450.0,99.0,4990.0,1990.0,19900.0,9900.0,9900.0,1490.0,99.0,49.5,9.9,49.5,745.0,9900.0,199000.0,1000.0,990.0,990000.0,990.0,4990.0,990.0,990.0,990.0,9.9,499000.0,19900.0,99.0,249.00000000000003,19900.0,124500.00000000001,149.0,49.5,3990.0,9900.0,1245000.0,49500.0,495.0,49.5,99.0],\"yaxis\":\"y\",\"type\":\"scatter\"},{\"hovertemplate\":\"\\u003cb\\u003eOLS trendline\\u003c\\u002fb\\u003e\\u003cbr\\u003eRevenue = 1.56891 * Installs + 16743.7\\u003cbr\\u003eR\\u003csup\\u003e2\\u003c\\u002fsup\\u003e=0.792711\\u003cbr\\u003e\\u003cbr\\u003eCategory=PERSONALIZATION\\u003cbr\\u003eInstalls=%{x}\\u003cbr\\u003eRevenue=%{y} \\u003cb\\u003e(trend)\\u003c\\u002fb\\u003e\\u003cextra\\u003e\\u003c\\u002fextra\\u003e\",\"legendgroup\":\"PERSONALIZATION\",\"marker\":{\"color\":\"#00cc96\",\"symbol\":\"circle\"},\"mode\":\"lines\",\"name\":\"PERSONALIZATION\",\"showlegend\":false,\"x\":[10,10,50,50,50,50,100,100,100,100,100,100,100,100,100,100,100,100,100,500,500,500,500,500,500,1000,1000,1000,1000,1000,1000,1000,1000,1000,1000,1000,1000,1000,1000,5000,5000,5000,5000,10000,10000,10000,10000,10000,10000,10000,10000,10000,10000,10000,10000,50000,50000,100000,100000,100000,100000,100000,500000,1000000,1000000,1000000],\"xaxis\":\"x\",\"y\":[16759.417876629923,16759.417876629923,16822.174174114032,16822.174174114032,16822.174174114032,16822.174174114032,16900.619545969173,16900.619545969173,16900.619545969173,16900.619545969173,16900.619545969173,16900.619545969173,16900.619545969173,16900.619545969173,16900.619545969173,16900.619545969173,16900.619545969173,16900.619545969173,16900.619545969173,17528.182520810282,17528.182520810282,17528.182520810282,17528.182520810282,17528.182520810282,17528.182520810282,18312.63623936167,18312.63623936167,18312.63623936167,18312.63623936167,18312.63623936167,18312.63623936167,18312.63623936167,18312.63623936167,18312.63623936167,18312.63623936167,18312.63623936167,18312.63623936167,18312.63623936167,18312.63623936167,24588.265987772775,24588.265987772775,24588.265987772775,24588.265987772775,32432.803173286655,32432.803173286655,32432.803173286655,32432.803173286655,32432.803173286655,32432.803173286655,32432.803173286655,32432.803173286655,32432.803173286655,32432.803173286655,32432.803173286655,32432.803173286655,95189.10065739769,95189.10065739769,173634.4725125365,173634.4725125365,173634.4725125365,173634.4725125365,173634.4725125365,801197.4473536469,1585651.1659050349,1585651.1659050349,1585651.1659050349],\"yaxis\":\"y\",\"type\":\"scatter\"},{\"hovertemplate\":\"Category=PRODUCTIVITY\\u003cbr\\u003eInstalls=%{x}\\u003cbr\\u003eRevenue=%{y}\\u003cextra\\u003e\\u003c\\u002fextra\\u003e\",\"legendgroup\":\"PRODUCTIVITY\",\"marker\":{\"color\":\"#ab63fa\",\"symbol\":\"circle\"},\"mode\":\"markers\",\"name\":\"PRODUCTIVITY\",\"orientation\":\"v\",\"showlegend\":true,\"x\":[100000,100,1000,100,1000,1000,100000,100000,100,500000,5000,500,10,1000,50000,500000,50000,1000],\"xaxis\":\"x\",\"y\":[599000.0,299.0,2990.0,649.0,1290.0,990.0,499000.0,449000.0,499.0,995000.0,19950.0,4495.0,9.9,4290.0,74500.0,1495000.0,149500.0,7990.0],\"yaxis\":\"y\",\"type\":\"scatter\"},{\"hovertemplate\":\"\\u003cb\\u003eOLS trendline\\u003c\\u002fb\\u003e\\u003cbr\\u003eRevenue = 2.52947 * Installs + 40880.2\\u003cbr\\u003eR\\u003csup\\u003e2\\u003c\\u002fsup\\u003e=0.895250\\u003cbr\\u003e\\u003cbr\\u003eCategory=PRODUCTIVITY\\u003cbr\\u003eInstalls=%{x}\\u003cbr\\u003eRevenue=%{y} \\u003cb\\u003e(trend)\\u003c\\u002fb\\u003e\\u003cextra\\u003e\\u003c\\u002fextra\\u003e\",\"legendgroup\":\"PRODUCTIVITY\",\"marker\":{\"color\":\"#ab63fa\",\"symbol\":\"circle\"},\"mode\":\"lines\",\"name\":\"PRODUCTIVITY\",\"showlegend\":false,\"x\":[10,100,100,100,500,1000,1000,1000,1000,1000,5000,50000,50000,100000,100000,100000,500000,500000],\"xaxis\":\"x\",\"y\":[40905.51270552376,41133.16541418376,41133.16541418376,41133.16541418376,42144.95523045041,43409.69250078373,43409.69250078373,43409.69250078373,43409.69250078373,43409.69250078373,53527.59066345026,167353.94499344873,167353.94499344873,293827.67202678043,293827.67202678043,293827.67202678043,1305617.4882934338,1305617.4882934338],\"yaxis\":\"y\",\"type\":\"scatter\"},{\"hovertemplate\":\"Category=WEATHER\\u003cbr\\u003eInstalls=%{x}\\u003cbr\\u003eRevenue=%{y}\\u003cextra\\u003e\\u003c\\u002fextra\\u003e\",\"legendgroup\":\"WEATHER\",\"marker\":{\"color\":\"#FFA15A\",\"symbol\":\"circle\"},\"mode\":\"markers\",\"name\":\"WEATHER\",\"orientation\":\"v\",\"showlegend\":true,\"x\":[100000,500000,500,10000,100000,100000,1000],\"xaxis\":\"x\",\"y\":[449000.0,2995000.0,995.0,29900.000000000004,299000.0,399000.0,6990.0],\"yaxis\":\"y\",\"type\":\"scatter\"},{\"hovertemplate\":\"\\u003cb\\u003eOLS trendline\\u003c\\u002fb\\u003e\\u003cbr\\u003eRevenue = 6.06336 * Installs + -105791\\u003cbr\\u003eR\\u003csup\\u003e2\\u003c\\u002fsup\\u003e=0.987560\\u003cbr\\u003e\\u003cbr\\u003eCategory=WEATHER\\u003cbr\\u003eInstalls=%{x}\\u003cbr\\u003eRevenue=%{y} \\u003cb\\u003e(trend)\\u003c\\u002fb\\u003e\\u003cextra\\u003e\\u003c\\u002fextra\\u003e\",\"legendgroup\":\"WEATHER\",\"marker\":{\"color\":\"#FFA15A\",\"symbol\":\"circle\"},\"mode\":\"lines\",\"name\":\"WEATHER\",\"showlegend\":false,\"x\":[500,1000,10000,100000,100000,100000,500000],\"xaxis\":\"x\",\"y\":[-102758.89396137935,-99727.212490012,-45156.946005399484,500545.71884072555,500545.71884072555,500545.71884072555,2925890.895934615],\"yaxis\":\"y\",\"type\":\"scatter\"},{\"hovertemplate\":\"Category=TOOLS\\u003cbr\\u003eInstalls=%{x}\\u003cbr\\u003eRevenue=%{y}\\u003cextra\\u003e\\u003c\\u002fextra\\u003e\",\"legendgroup\":\"TOOLS\",\"marker\":{\"color\":\"#19d3f3\",\"symbol\":\"circle\"},\"mode\":\"markers\",\"name\":\"TOOLS\",\"orientation\":\"v\",\"showlegend\":true,\"x\":[100,5000,1000,5000,100,10000,50,10000,5000,1000,10000,10000,10000,10000,10000,10,100,10,1000,1000,5000,100000,10000,100,500,500,1000,10000,10000,1000,100,500,500,1000,100000,10000,50000,500,1000,50,100,1000,50000,10000,10000,1000,1000,500,10000,10000,100000,1000000,5000,1000,5000,5000,5000,5000,100,10000,1000,5000,100000],\"xaxis\":\"x\",\"y\":[199.0,24950.0,1490.0,74950.0,599.0,9900.0,88.0,29900.000000000004,4950.0,3990.0,19900.0,25000.0,19900.0,29900.000000000004,29900.000000000004,9.9,499.0,29.900000000000002,2490.0,1990.0,4950.0,249000.00000000003,19900.0,399.0,1995.0,1995.0,990.0,25900.0,29900.000000000004,990.0,99.0,495.0,495.0,1490.0,399000.0,39000.0,149500.0,495.0,5990.0,149.5,399.0,4990.0,149500.0,32800.0,49900.0,990.0,14990.0,995.0,29500.0,19700.0,449000.0,2990000.0,24950.0,4990.0,24950.0,24950.0,24950.0,24950.0,149.0,19900.0,2990.0,5000.0,349000.0],\"yaxis\":\"y\",\"type\":\"scatter\"},{\"hovertemplate\":\"\\u003cb\\u003eOLS trendline\\u003c\\u002fb\\u003e\\u003cbr\\u003eRevenue = 3.00678 * Installs + 4297.61\\u003cbr\\u003eR\\u003csup\\u003e2\\u003c\\u002fsup\\u003e=0.995383\\u003cbr\\u003e\\u003cbr\\u003eCategory=TOOLS\\u003cbr\\u003eInstalls=%{x}\\u003cbr\\u003eRevenue=%{y} \\u003cb\\u003e(trend)\\u003c\\u002fb\\u003e\\u003cextra\\u003e\\u003c\\u002fextra\\u003e\",\"legendgroup\":\"TOOLS\",\"marker\":{\"color\":\"#19d3f3\",\"symbol\":\"circle\"},\"mode\":\"lines\",\"name\":\"TOOLS\",\"showlegend\":false,\"x\":[10,10,50,50,100,100,100,100,100,100,100,500,500,500,500,500,500,1000,1000,1000,1000,1000,1000,1000,1000,1000,1000,1000,1000,1000,5000,5000,5000,5000,5000,5000,5000,5000,5000,5000,10000,10000,10000,10000,10000,10000,10000,10000,10000,10000,10000,10000,10000,10000,10000,10000,50000,50000,100000,100000,100000,100000,1000000],\"xaxis\":\"x\",\"y\":[4327.673360127381,4327.673360127381,4447.944405106484,4447.944405106484,4598.283211330364,4598.283211330364,4598.283211330364,4598.283211330364,4598.283211330364,4598.283211330364,4598.283211330364,5800.993661121401,5800.993661121401,5800.993661121401,5800.993661121401,5800.993661121401,5800.993661121401,7304.381723360197,7304.381723360197,7304.381723360197,7304.381723360197,7304.381723360197,7304.381723360197,7304.381723360197,7304.381723360197,7304.381723360197,7304.381723360197,7304.381723360197,7304.381723360197,7304.381723360197,19331.486221270563,19331.486221270563,19331.486221270563,19331.486221270563,19331.486221270563,19331.486221270563,19331.486221270563,19331.486221270563,19331.486221270563,19331.486221270563,34365.36684365853,34365.36684365853,34365.36684365853,34365.36684365853,34365.36684365853,34365.36684365853,34365.36684365853,34365.36684365853,34365.36684365853,34365.36684365853,34365.36684365853,34365.36684365853,34365.36684365853,34365.36684365853,34365.36684365853,34365.36684365853,154636.4118227622,154636.4118227622,304975.2180466418,304975.2180466418,304975.2180466418,304975.2180466418,3011073.730076475],\"yaxis\":\"y\",\"type\":\"scatter\"},{\"hovertemplate\":\"Category=TRAVEL_AND_LOCAL\\u003cbr\\u003eInstalls=%{x}\\u003cbr\\u003eRevenue=%{y}\\u003cextra\\u003e\\u003c\\u002fextra\\u003e\",\"legendgroup\":\"TRAVEL_AND_LOCAL\",\"marker\":{\"color\":\"#FF6692\",\"symbol\":\"circle\"},\"mode\":\"markers\",\"name\":\"TRAVEL_AND_LOCAL\",\"orientation\":\"v\",\"showlegend\":true,\"x\":[100000,1000,5000,50000,5000,1000,10000,10000],\"xaxis\":\"x\",\"y\":[899000.0,8490.0,19950.0,124500.00000000001,14950.000000000002,2560.0,59900.0,19900.0],\"yaxis\":\"y\",\"type\":\"scatter\"},{\"hovertemplate\":\"\\u003cb\\u003eOLS trendline\\u003c\\u002fb\\u003e\\u003cbr\\u003eRevenue = 8.24051 * Installs + -43815.2\\u003cbr\\u003eR\\u003csup\\u003e2\\u003c\\u002fsup\\u003e=0.881625\\u003cbr\\u003e\\u003cbr\\u003eCategory=TRAVEL_AND_LOCAL\\u003cbr\\u003eInstalls=%{x}\\u003cbr\\u003eRevenue=%{y} \\u003cb\\u003e(trend)\\u003c\\u002fb\\u003e\\u003cextra\\u003e\\u003c\\u002fextra\\u003e\",\"legendgroup\":\"TRAVEL_AND_LOCAL\",\"marker\":{\"color\":\"#FF6692\",\"symbol\":\"circle\"},\"mode\":\"lines\",\"name\":\"TRAVEL_AND_LOCAL\",\"showlegend\":false,\"x\":[1000,1000,5000,5000,10000,10000,50000,100000],\"xaxis\":\"x\",\"y\":[-35574.74307611923,-35574.74307611923,-2612.721360970856,-2612.721360970856,38589.80578296461,38589.80578296461,368210.0229344484,780235.2943738031],\"yaxis\":\"y\",\"type\":\"scatter\"},{\"hovertemplate\":\"Category=LIFESTYLE\\u003cbr\\u003eInstalls=%{x}\\u003cbr\\u003eRevenue=%{y}\\u003cextra\\u003e\\u003c\\u002fextra\\u003e\",\"legendgroup\":\"LIFESTYLE\",\"marker\":{\"color\":\"#B6E880\",\"symbol\":\"circle\"},\"mode\":\"markers\",\"name\":\"LIFESTYLE\",\"orientation\":\"v\",\"showlegend\":true,\"x\":[5000,5000,10000,10000,5000,10000,100000,10000,1000,1000,5000,1000000,1000,5000,100,10000,10,1000],\"xaxis\":\"x\",\"y\":[4950.0,9950.0,3999900.0,4000000.0,19950.0,24900.000000000004,39999000.0,2999900.0,379990.0,37990.0,12450.000000000002,5990000.0,4990.0,14950.000000000002,99.0,79900.0,30.4,4990.0],\"yaxis\":\"y\",\"type\":\"scatter\"},{\"hovertemplate\":\"\\u003cb\\u003eOLS trendline\\u003c\\u002fb\\u003e\\u003cbr\\u003eRevenue = 6.78129 * Installs + 2.75489e+06\\u003cbr\\u003eR\\u003csup\\u003e2\\u003c\\u002fsup\\u003e=0.028754\\u003cbr\\u003e\\u003cbr\\u003eCategory=LIFESTYLE\\u003cbr\\u003eInstalls=%{x}\\u003cbr\\u003eRevenue=%{y} \\u003cb\\u003e(trend)\\u003c\\u002fb\\u003e\\u003cextra\\u003e\\u003c\\u002fextra\\u003e\",\"legendgroup\":\"LIFESTYLE\",\"marker\":{\"color\":\"#B6E880\",\"symbol\":\"circle\"},\"mode\":\"lines\",\"name\":\"LIFESTYLE\",\"showlegend\":false,\"x\":[10,100,1000,1000,1000,1000,5000,5000,5000,5000,5000,10000,10000,10000,10000,10000,100000,1000000],\"xaxis\":\"x\",\"y\":[2754959.877929181,2755570.1936763027,2761673.3511475245,2761673.3511475245,2761673.3511475245,2761673.3511475245,2788798.4954640646,2788798.4954640646,2788798.4954640646,2788798.4954640646,2788798.4954640646,2822704.9258597405,2822704.9258597405,2822704.9258597405,2822704.9258597405,2822704.9258597405,3433020.6729818997,9536178.144203492],\"yaxis\":\"y\",\"type\":\"scatter\"},{\"hovertemplate\":\"Category=AUTO_AND_VEHICLES\\u003cbr\\u003eInstalls=%{x}\\u003cbr\\u003eRevenue=%{y}\\u003cextra\\u003e\\u003c\\u002fextra\\u003e\",\"legendgroup\":\"AUTO_AND_VEHICLES\",\"marker\":{\"color\":\"#FF97FF\",\"symbol\":\"circle\"},\"mode\":\"markers\",\"name\":\"AUTO_AND_VEHICLES\",\"orientation\":\"v\",\"showlegend\":true,\"x\":[50000],\"xaxis\":\"x\",\"y\":[99500.0],\"yaxis\":\"y\",\"type\":\"scatter\"},{\"hovertemplate\":\"Category=AUTO_AND_VEHICLES\\u003cextra\\u003e\\u003c\\u002fextra\\u003e\",\"legendgroup\":\"AUTO_AND_VEHICLES\",\"marker\":{\"color\":\"#FF97FF\",\"symbol\":\"circle\"},\"mode\":\"lines\",\"name\":\"AUTO_AND_VEHICLES\",\"showlegend\":false,\"xaxis\":\"x\",\"yaxis\":\"y\",\"type\":\"scatter\"},{\"hovertemplate\":\"Category=NEWS_AND_MAGAZINES\\u003cbr\\u003eInstalls=%{x}\\u003cbr\\u003eRevenue=%{y}\\u003cextra\\u003e\\u003c\\u002fextra\\u003e\",\"legendgroup\":\"NEWS_AND_MAGAZINES\",\"marker\":{\"color\":\"#FECB52\",\"symbol\":\"circle\"},\"mode\":\"markers\",\"name\":\"NEWS_AND_MAGAZINES\",\"orientation\":\"v\",\"showlegend\":true,\"x\":[5000,500],\"xaxis\":\"x\",\"y\":[4950.0,1495.0],\"yaxis\":\"y\",\"type\":\"scatter\"},{\"hovertemplate\":\"\\u003cb\\u003eOLS trendline\\u003c\\u002fb\\u003e\\u003cbr\\u003eRevenue = 0.767778 * Installs + 1111.11\\u003cbr\\u003eR\\u003csup\\u003e2\\u003c\\u002fsup\\u003e=1.000000\\u003cbr\\u003e\\u003cbr\\u003eCategory=NEWS_AND_MAGAZINES\\u003cbr\\u003eInstalls=%{x}\\u003cbr\\u003eRevenue=%{y} \\u003cb\\u003e(trend)\\u003c\\u002fb\\u003e\\u003cextra\\u003e\\u003c\\u002fextra\\u003e\",\"legendgroup\":\"NEWS_AND_MAGAZINES\",\"marker\":{\"color\":\"#FECB52\",\"symbol\":\"circle\"},\"mode\":\"lines\",\"name\":\"NEWS_AND_MAGAZINES\",\"showlegend\":false,\"x\":[500,5000],\"xaxis\":\"x\",\"y\":[1494.9999999999998,4949.999999999999],\"yaxis\":\"y\",\"type\":\"scatter\"},{\"hovertemplate\":\"Category=SHOPPING\\u003cbr\\u003eInstalls=%{x}\\u003cbr\\u003eRevenue=%{y}\\u003cextra\\u003e\\u003c\\u002fextra\\u003e\",\"legendgroup\":\"SHOPPING\",\"marker\":{\"color\":\"#636efa\",\"symbol\":\"circle\"},\"mode\":\"markers\",\"name\":\"SHOPPING\",\"orientation\":\"v\",\"showlegend\":true,\"x\":[100,10000],\"xaxis\":\"x\",\"y\":[249.00000000000003,29900.000000000004],\"yaxis\":\"y\",\"type\":\"scatter\"},{\"hovertemplate\":\"\\u003cb\\u003eOLS trendline\\u003c\\u002fb\\u003e\\u003cbr\\u003eRevenue = 2.99505 * Installs + -50.5051\\u003cbr\\u003eR\\u003csup\\u003e2\\u003c\\u002fsup\\u003e=1.000000\\u003cbr\\u003e\\u003cbr\\u003eCategory=SHOPPING\\u003cbr\\u003eInstalls=%{x}\\u003cbr\\u003eRevenue=%{y} \\u003cb\\u003e(trend)\\u003c\\u002fb\\u003e\\u003cextra\\u003e\\u003c\\u002fextra\\u003e\",\"legendgroup\":\"SHOPPING\",\"marker\":{\"color\":\"#636efa\",\"symbol\":\"circle\"},\"mode\":\"lines\",\"name\":\"SHOPPING\",\"showlegend\":false,\"x\":[100,10000],\"xaxis\":\"x\",\"y\":[248.9999999999996,29900.000000000004],\"yaxis\":\"y\",\"type\":\"scatter\"},{\"hovertemplate\":\"Category=BOOKS_AND_REFERENCE\\u003cbr\\u003eInstalls=%{x}\\u003cbr\\u003eRevenue=%{y}\\u003cextra\\u003e\\u003c\\u002fextra\\u003e\",\"legendgroup\":\"BOOKS_AND_REFERENCE\",\"marker\":{\"color\":\"#EF553B\",\"symbol\":\"circle\"},\"mode\":\"markers\",\"name\":\"BOOKS_AND_REFERENCE\",\"orientation\":\"v\",\"showlegend\":true,\"x\":[5000,100,10000,50,1000,500,1000,5000],\"xaxis\":\"x\",\"y\":[14950.000000000002,399.0,44900.0,87.5,3080.0,495.0,1990.0,23000.0],\"yaxis\":\"y\",\"type\":\"scatter\"},{\"hovertemplate\":\"\\u003cb\\u003eOLS trendline\\u003c\\u002fb\\u003e\\u003cbr\\u003eRevenue = 4.45238 * Installs + -1493.12\\u003cbr\\u003eR\\u003csup\\u003e2\\u003c\\u002fsup\\u003e=0.973652\\u003cbr\\u003e\\u003cbr\\u003eCategory=BOOKS_AND_REFERENCE\\u003cbr\\u003eInstalls=%{x}\\u003cbr\\u003eRevenue=%{y} \\u003cb\\u003e(trend)\\u003c\\u002fb\\u003e\\u003cextra\\u003e\\u003c\\u002fextra\\u003e\",\"legendgroup\":\"BOOKS_AND_REFERENCE\",\"marker\":{\"color\":\"#EF553B\",\"symbol\":\"circle\"},\"mode\":\"lines\",\"name\":\"BOOKS_AND_REFERENCE\",\"showlegend\":false,\"x\":[50,100,500,1000,1000,5000,5000,10000],\"xaxis\":\"x\",\"y\":[-1270.503311692685,-1047.8841510330412,733.0691342441091,2959.260740840547,2959.260740840547,20768.79359361205,20768.79359361205,43030.70965957643],\"yaxis\":\"y\",\"type\":\"scatter\"},{\"hovertemplate\":\"Category=SOCIAL\\u003cbr\\u003eInstalls=%{x}\\u003cbr\\u003eRevenue=%{y}\\u003cextra\\u003e\\u003c\\u002fextra\\u003e\",\"legendgroup\":\"SOCIAL\",\"marker\":{\"color\":\"#00cc96\",\"symbol\":\"circle\"},\"mode\":\"markers\",\"name\":\"SOCIAL\",\"orientation\":\"v\",\"showlegend\":true,\"x\":[1000,5000],\"xaxis\":\"x\",\"y\":[990.0,4950.0],\"yaxis\":\"y\",\"type\":\"scatter\"},{\"hovertemplate\":\"\\u003cb\\u003eOLS trendline\\u003c\\u002fb\\u003e\\u003cbr\\u003eRevenue = 0.99 * Installs + -4.54747e-13\\u003cbr\\u003eR\\u003csup\\u003e2\\u003c\\u002fsup\\u003e=1.000000\\u003cbr\\u003e\\u003cbr\\u003eCategory=SOCIAL\\u003cbr\\u003eInstalls=%{x}\\u003cbr\\u003eRevenue=%{y} \\u003cb\\u003e(trend)\\u003c\\u002fb\\u003e\\u003cextra\\u003e\\u003c\\u002fextra\\u003e\",\"legendgroup\":\"SOCIAL\",\"marker\":{\"color\":\"#00cc96\",\"symbol\":\"circle\"},\"mode\":\"lines\",\"name\":\"SOCIAL\",\"showlegend\":false,\"x\":[1000,5000],\"xaxis\":\"x\",\"y\":[989.9999999999998,4950.0],\"yaxis\":\"y\",\"type\":\"scatter\"},{\"hovertemplate\":\"Category=ART_AND_DESIGN\\u003cbr\\u003eInstalls=%{x}\\u003cbr\\u003eRevenue=%{y}\\u003cextra\\u003e\\u003c\\u002fextra\\u003e\",\"legendgroup\":\"ART_AND_DESIGN\",\"marker\":{\"color\":\"#ab63fa\",\"symbol\":\"circle\"},\"mode\":\"markers\",\"name\":\"ART_AND_DESIGN\",\"orientation\":\"v\",\"showlegend\":true,\"x\":[5000,10000,1000],\"xaxis\":\"x\",\"y\":[9950.0,19900.0,1990.0],\"yaxis\":\"y\",\"type\":\"scatter\"},{\"hovertemplate\":\"\\u003cb\\u003eOLS trendline\\u003c\\u002fb\\u003e\\u003cbr\\u003eRevenue = 1.99 * Installs + -2.72848e-12\\u003cbr\\u003eR\\u003csup\\u003e2\\u003c\\u002fsup\\u003e=1.000000\\u003cbr\\u003e\\u003cbr\\u003eCategory=ART_AND_DESIGN\\u003cbr\\u003eInstalls=%{x}\\u003cbr\\u003eRevenue=%{y} \\u003cb\\u003e(trend)\\u003c\\u002fb\\u003e\\u003cextra\\u003e\\u003c\\u002fextra\\u003e\",\"legendgroup\":\"ART_AND_DESIGN\",\"marker\":{\"color\":\"#ab63fa\",\"symbol\":\"circle\"},\"mode\":\"lines\",\"name\":\"ART_AND_DESIGN\",\"showlegend\":false,\"x\":[1000,5000,10000],\"xaxis\":\"x\",\"y\":[1989.9999999999982,9950.0,19900.000000000004],\"yaxis\":\"y\",\"type\":\"scatter\"},{\"hovertemplate\":\"Category=VIDEO_PLAYERS\\u003cbr\\u003eInstalls=%{x}\\u003cbr\\u003eRevenue=%{y}\\u003cextra\\u003e\\u003c\\u002fextra\\u003e\",\"legendgroup\":\"VIDEO_PLAYERS\",\"marker\":{\"color\":\"#FFA15A\",\"symbol\":\"circle\"},\"mode\":\"markers\",\"name\":\"VIDEO_PLAYERS\",\"orientation\":\"v\",\"showlegend\":true,\"x\":[10000,10000,50000,1000],\"xaxis\":\"x\",\"y\":[14900.0,19900.0,299500.0,990.0],\"yaxis\":\"y\",\"type\":\"scatter\"},{\"hovertemplate\":\"\\u003cb\\u003eOLS trendline\\u003c\\u002fb\\u003e\\u003cbr\\u003eRevenue = 6.50536 * Installs + -31647.6\\u003cbr\\u003eR\\u003csup\\u003e2\\u003c\\u002fsup\\u003e=0.980031\\u003cbr\\u003e\\u003cbr\\u003eCategory=VIDEO_PLAYERS\\u003cbr\\u003eInstalls=%{x}\\u003cbr\\u003eRevenue=%{y} \\u003cb\\u003e(trend)\\u003c\\u002fb\\u003e\\u003cextra\\u003e\\u003c\\u002fextra\\u003e\",\"legendgroup\":\"VIDEO_PLAYERS\",\"marker\":{\"color\":\"#FFA15A\",\"symbol\":\"circle\"},\"mode\":\"lines\",\"name\":\"VIDEO_PLAYERS\",\"showlegend\":false,\"x\":[1000,10000,10000,50000],\"xaxis\":\"x\",\"y\":[-25142.222800624673,33405.98646538263,33405.98646538263,293620.2498698595],\"yaxis\":\"y\",\"type\":\"scatter\"},{\"hovertemplate\":\"Category=FINANCE\\u003cbr\\u003eInstalls=%{x}\\u003cbr\\u003eRevenue=%{y}\\u003cextra\\u003e\\u003c\\u002fextra\\u003e\",\"legendgroup\":\"FINANCE\",\"marker\":{\"color\":\"#19d3f3\",\"symbol\":\"circle\"},\"mode\":\"markers\",\"name\":\"FINANCE\",\"orientation\":\"v\",\"showlegend\":true,\"x\":[50000,1000,5000,10000,1000,5000,1000,1000,500,1000,100000,100,10000],\"xaxis\":\"x\",\"y\":[19999500.0,399990.0,1999950.0,189899.99999999997,399990.0,1999950.0,399990.0,3990.0,1995.0,1990.0,299000.0,499.0,29900.000000000004],\"yaxis\":\"y\",\"type\":\"scatter\"},{\"hovertemplate\":\"\\u003cb\\u003eOLS trendline\\u003c\\u002fb\\u003e\\u003cbr\\u003eRevenue = 67.8823 * Installs + 1.00982e+06\\u003cbr\\u003eR\\u003csup\\u003e2\\u003c\\u002fsup\\u003e=0.130191\\u003cbr\\u003e\\u003cbr\\u003eCategory=FINANCE\\u003cbr\\u003eInstalls=%{x}\\u003cbr\\u003eRevenue=%{y} \\u003cb\\u003e(trend)\\u003c\\u002fb\\u003e\\u003cextra\\u003e\\u003c\\u002fextra\\u003e\",\"legendgroup\":\"FINANCE\",\"marker\":{\"color\":\"#19d3f3\",\"symbol\":\"circle\"},\"mode\":\"lines\",\"name\":\"FINANCE\",\"showlegend\":false,\"x\":[100,500,1000,1000,1000,1000,1000,5000,5000,10000,10000,50000,100000],\"xaxis\":\"x\",\"y\":[1016610.3244382219,1043763.248545228,1077704.4036789858,1077704.4036789858,1077704.4036789858,1077704.4036789858,1077704.4036789858,1349233.6447490482,1349233.6447490482,1688645.1960866263,1688645.1960866263,4403937.606787249,7798053.120163029],\"yaxis\":\"y\",\"type\":\"scatter\"},{\"hovertemplate\":\"Category=MAPS_AND_NAVIGATION\\u003cbr\\u003eInstalls=%{x}\\u003cbr\\u003eRevenue=%{y}\\u003cextra\\u003e\\u003c\\u002fextra\\u003e\",\"legendgroup\":\"MAPS_AND_NAVIGATION\",\"marker\":{\"color\":\"#FF6692\",\"symbol\":\"circle\"},\"mode\":\"markers\",\"name\":\"MAPS_AND_NAVIGATION\",\"orientation\":\"v\",\"showlegend\":true,\"x\":[10000,100000,1000,10000,100],\"xaxis\":\"x\",\"y\":[9900.0,1199000.0,990.0,29900.000000000004,999.0],\"yaxis\":\"y\",\"type\":\"scatter\"},{\"hovertemplate\":\"\\u003cb\\u003eOLS trendline\\u003c\\u002fb\\u003e\\u003cbr\\u003eRevenue = 12.4171 * Installs + -52584.7\\u003cbr\\u003eR\\u003csup\\u003e2\\u003c\\u002fsup\\u003e=0.991090\\u003cbr\\u003e\\u003cbr\\u003eCategory=MAPS_AND_NAVIGATION\\u003cbr\\u003eInstalls=%{x}\\u003cbr\\u003eRevenue=%{y} \\u003cb\\u003e(trend)\\u003c\\u002fb\\u003e\\u003cextra\\u003e\\u003c\\u002fextra\\u003e\",\"legendgroup\":\"MAPS_AND_NAVIGATION\",\"marker\":{\"color\":\"#FF6692\",\"symbol\":\"circle\"},\"mode\":\"lines\",\"name\":\"MAPS_AND_NAVIGATION\",\"showlegend\":false,\"x\":[100,1000,10000,10000,100000],\"xaxis\":\"x\",\"y\":[-51342.96683309552,-40167.56508559195,71586.4523894437,71586.4523894437,1189126.6271398002],\"yaxis\":\"y\",\"type\":\"scatter\"},{\"hovertemplate\":\"Category=PARENTING\\u003cbr\\u003eInstalls=%{x}\\u003cbr\\u003eRevenue=%{y}\\u003cextra\\u003e\\u003c\\u002fextra\\u003e\",\"legendgroup\":\"PARENTING\",\"marker\":{\"color\":\"#B6E880\",\"symbol\":\"circle\"},\"mode\":\"markers\",\"name\":\"PARENTING\",\"orientation\":\"v\",\"showlegend\":true,\"x\":[50000,100],\"xaxis\":\"x\",\"y\":[249500.0,459.0],\"yaxis\":\"y\",\"type\":\"scatter\"},{\"hovertemplate\":\"\\u003cb\\u003eOLS trendline\\u003c\\u002fb\\u003e\\u003cbr\\u003eRevenue = 4.9908 * Installs + -40.0802\\u003cbr\\u003eR\\u003csup\\u003e2\\u003c\\u002fsup\\u003e=1.000000\\u003cbr\\u003e\\u003cbr\\u003eCategory=PARENTING\\u003cbr\\u003eInstalls=%{x}\\u003cbr\\u003eRevenue=%{y} \\u003cb\\u003e(trend)\\u003c\\u002fb\\u003e\\u003cextra\\u003e\\u003c\\u002fextra\\u003e\",\"legendgroup\":\"PARENTING\",\"marker\":{\"color\":\"#B6E880\",\"symbol\":\"circle\"},\"mode\":\"lines\",\"name\":\"PARENTING\",\"showlegend\":false,\"x\":[100,50000],\"xaxis\":\"x\",\"y\":[458.99999999998107,249500.0000000001],\"yaxis\":\"y\",\"type\":\"scatter\"}],                        {\"template\":{\"data\":{\"histogram2dcontour\":[{\"type\":\"histogram2dcontour\",\"colorbar\":{\"outlinewidth\":0,\"ticks\":\"\"},\"colorscale\":[[0.0,\"#0d0887\"],[0.1111111111111111,\"#46039f\"],[0.2222222222222222,\"#7201a8\"],[0.3333333333333333,\"#9c179e\"],[0.4444444444444444,\"#bd3786\"],[0.5555555555555556,\"#d8576b\"],[0.6666666666666666,\"#ed7953\"],[0.7777777777777778,\"#fb9f3a\"],[0.8888888888888888,\"#fdca26\"],[1.0,\"#f0f921\"]]}],\"choropleth\":[{\"type\":\"choropleth\",\"colorbar\":{\"outlinewidth\":0,\"ticks\":\"\"}}],\"histogram2d\":[{\"type\":\"histogram2d\",\"colorbar\":{\"outlinewidth\":0,\"ticks\":\"\"},\"colorscale\":[[0.0,\"#0d0887\"],[0.1111111111111111,\"#46039f\"],[0.2222222222222222,\"#7201a8\"],[0.3333333333333333,\"#9c179e\"],[0.4444444444444444,\"#bd3786\"],[0.5555555555555556,\"#d8576b\"],[0.6666666666666666,\"#ed7953\"],[0.7777777777777778,\"#fb9f3a\"],[0.8888888888888888,\"#fdca26\"],[1.0,\"#f0f921\"]]}],\"heatmap\":[{\"type\":\"heatmap\",\"colorbar\":{\"outlinewidth\":0,\"ticks\":\"\"},\"colorscale\":[[0.0,\"#0d0887\"],[0.1111111111111111,\"#46039f\"],[0.2222222222222222,\"#7201a8\"],[0.3333333333333333,\"#9c179e\"],[0.4444444444444444,\"#bd3786\"],[0.5555555555555556,\"#d8576b\"],[0.6666666666666666,\"#ed7953\"],[0.7777777777777778,\"#fb9f3a\"],[0.8888888888888888,\"#fdca26\"],[1.0,\"#f0f921\"]]}],\"heatmapgl\":[{\"type\":\"heatmapgl\",\"colorbar\":{\"outlinewidth\":0,\"ticks\":\"\"},\"colorscale\":[[0.0,\"#0d0887\"],[0.1111111111111111,\"#46039f\"],[0.2222222222222222,\"#7201a8\"],[0.3333333333333333,\"#9c179e\"],[0.4444444444444444,\"#bd3786\"],[0.5555555555555556,\"#d8576b\"],[0.6666666666666666,\"#ed7953\"],[0.7777777777777778,\"#fb9f3a\"],[0.8888888888888888,\"#fdca26\"],[1.0,\"#f0f921\"]]}],\"contourcarpet\":[{\"type\":\"contourcarpet\",\"colorbar\":{\"outlinewidth\":0,\"ticks\":\"\"}}],\"contour\":[{\"type\":\"contour\",\"colorbar\":{\"outlinewidth\":0,\"ticks\":\"\"},\"colorscale\":[[0.0,\"#0d0887\"],[0.1111111111111111,\"#46039f\"],[0.2222222222222222,\"#7201a8\"],[0.3333333333333333,\"#9c179e\"],[0.4444444444444444,\"#bd3786\"],[0.5555555555555556,\"#d8576b\"],[0.6666666666666666,\"#ed7953\"],[0.7777777777777778,\"#fb9f3a\"],[0.8888888888888888,\"#fdca26\"],[1.0,\"#f0f921\"]]}],\"surface\":[{\"type\":\"surface\",\"colorbar\":{\"outlinewidth\":0,\"ticks\":\"\"},\"colorscale\":[[0.0,\"#0d0887\"],[0.1111111111111111,\"#46039f\"],[0.2222222222222222,\"#7201a8\"],[0.3333333333333333,\"#9c179e\"],[0.4444444444444444,\"#bd3786\"],[0.5555555555555556,\"#d8576b\"],[0.6666666666666666,\"#ed7953\"],[0.7777777777777778,\"#fb9f3a\"],[0.8888888888888888,\"#fdca26\"],[1.0,\"#f0f921\"]]}],\"mesh3d\":[{\"type\":\"mesh3d\",\"colorbar\":{\"outlinewidth\":0,\"ticks\":\"\"}}],\"scatter\":[{\"fillpattern\":{\"fillmode\":\"overlay\",\"size\":10,\"solidity\":0.2},\"type\":\"scatter\"}],\"parcoords\":[{\"type\":\"parcoords\",\"line\":{\"colorbar\":{\"outlinewidth\":0,\"ticks\":\"\"}}}],\"scatterpolargl\":[{\"type\":\"scatterpolargl\",\"marker\":{\"colorbar\":{\"outlinewidth\":0,\"ticks\":\"\"}}}],\"bar\":[{\"error_x\":{\"color\":\"#2a3f5f\"},\"error_y\":{\"color\":\"#2a3f5f\"},\"marker\":{\"line\":{\"color\":\"#E5ECF6\",\"width\":0.5},\"pattern\":{\"fillmode\":\"overlay\",\"size\":10,\"solidity\":0.2}},\"type\":\"bar\"}],\"scattergeo\":[{\"type\":\"scattergeo\",\"marker\":{\"colorbar\":{\"outlinewidth\":0,\"ticks\":\"\"}}}],\"scatterpolar\":[{\"type\":\"scatterpolar\",\"marker\":{\"colorbar\":{\"outlinewidth\":0,\"ticks\":\"\"}}}],\"histogram\":[{\"marker\":{\"pattern\":{\"fillmode\":\"overlay\",\"size\":10,\"solidity\":0.2}},\"type\":\"histogram\"}],\"scattergl\":[{\"type\":\"scattergl\",\"marker\":{\"colorbar\":{\"outlinewidth\":0,\"ticks\":\"\"}}}],\"scatter3d\":[{\"type\":\"scatter3d\",\"line\":{\"colorbar\":{\"outlinewidth\":0,\"ticks\":\"\"}},\"marker\":{\"colorbar\":{\"outlinewidth\":0,\"ticks\":\"\"}}}],\"scattermapbox\":[{\"type\":\"scattermapbox\",\"marker\":{\"colorbar\":{\"outlinewidth\":0,\"ticks\":\"\"}}}],\"scatterternary\":[{\"type\":\"scatterternary\",\"marker\":{\"colorbar\":{\"outlinewidth\":0,\"ticks\":\"\"}}}],\"scattercarpet\":[{\"type\":\"scattercarpet\",\"marker\":{\"colorbar\":{\"outlinewidth\":0,\"ticks\":\"\"}}}],\"carpet\":[{\"aaxis\":{\"endlinecolor\":\"#2a3f5f\",\"gridcolor\":\"white\",\"linecolor\":\"white\",\"minorgridcolor\":\"white\",\"startlinecolor\":\"#2a3f5f\"},\"baxis\":{\"endlinecolor\":\"#2a3f5f\",\"gridcolor\":\"white\",\"linecolor\":\"white\",\"minorgridcolor\":\"white\",\"startlinecolor\":\"#2a3f5f\"},\"type\":\"carpet\"}],\"table\":[{\"cells\":{\"fill\":{\"color\":\"#EBF0F8\"},\"line\":{\"color\":\"white\"}},\"header\":{\"fill\":{\"color\":\"#C8D4E3\"},\"line\":{\"color\":\"white\"}},\"type\":\"table\"}],\"barpolar\":[{\"marker\":{\"line\":{\"color\":\"#E5ECF6\",\"width\":0.5},\"pattern\":{\"fillmode\":\"overlay\",\"size\":10,\"solidity\":0.2}},\"type\":\"barpolar\"}],\"pie\":[{\"automargin\":true,\"type\":\"pie\"}]},\"layout\":{\"autotypenumbers\":\"strict\",\"colorway\":[\"#636efa\",\"#EF553B\",\"#00cc96\",\"#ab63fa\",\"#FFA15A\",\"#19d3f3\",\"#FF6692\",\"#B6E880\",\"#FF97FF\",\"#FECB52\"],\"font\":{\"color\":\"#2a3f5f\"},\"hovermode\":\"closest\",\"hoverlabel\":{\"align\":\"left\"},\"paper_bgcolor\":\"white\",\"plot_bgcolor\":\"#E5ECF6\",\"polar\":{\"bgcolor\":\"#E5ECF6\",\"angularaxis\":{\"gridcolor\":\"white\",\"linecolor\":\"white\",\"ticks\":\"\"},\"radialaxis\":{\"gridcolor\":\"white\",\"linecolor\":\"white\",\"ticks\":\"\"}},\"ternary\":{\"bgcolor\":\"#E5ECF6\",\"aaxis\":{\"gridcolor\":\"white\",\"linecolor\":\"white\",\"ticks\":\"\"},\"baxis\":{\"gridcolor\":\"white\",\"linecolor\":\"white\",\"ticks\":\"\"},\"caxis\":{\"gridcolor\":\"white\",\"linecolor\":\"white\",\"ticks\":\"\"}},\"coloraxis\":{\"colorbar\":{\"outlinewidth\":0,\"ticks\":\"\"}},\"colorscale\":{\"sequential\":[[0.0,\"#0d0887\"],[0.1111111111111111,\"#46039f\"],[0.2222222222222222,\"#7201a8\"],[0.3333333333333333,\"#9c179e\"],[0.4444444444444444,\"#bd3786\"],[0.5555555555555556,\"#d8576b\"],[0.6666666666666666,\"#ed7953\"],[0.7777777777777778,\"#fb9f3a\"],[0.8888888888888888,\"#fdca26\"],[1.0,\"#f0f921\"]],\"sequentialminus\":[[0.0,\"#0d0887\"],[0.1111111111111111,\"#46039f\"],[0.2222222222222222,\"#7201a8\"],[0.3333333333333333,\"#9c179e\"],[0.4444444444444444,\"#bd3786\"],[0.5555555555555556,\"#d8576b\"],[0.6666666666666666,\"#ed7953\"],[0.7777777777777778,\"#fb9f3a\"],[0.8888888888888888,\"#fdca26\"],[1.0,\"#f0f921\"]],\"diverging\":[[0,\"#8e0152\"],[0.1,\"#c51b7d\"],[0.2,\"#de77ae\"],[0.3,\"#f1b6da\"],[0.4,\"#fde0ef\"],[0.5,\"#f7f7f7\"],[0.6,\"#e6f5d0\"],[0.7,\"#b8e186\"],[0.8,\"#7fbc41\"],[0.9,\"#4d9221\"],[1,\"#276419\"]]},\"xaxis\":{\"gridcolor\":\"white\",\"linecolor\":\"white\",\"ticks\":\"\",\"title\":{\"standoff\":15},\"zerolinecolor\":\"white\",\"automargin\":true,\"zerolinewidth\":2},\"yaxis\":{\"gridcolor\":\"white\",\"linecolor\":\"white\",\"ticks\":\"\",\"title\":{\"standoff\":15},\"zerolinecolor\":\"white\",\"automargin\":true,\"zerolinewidth\":2},\"scene\":{\"xaxis\":{\"backgroundcolor\":\"#E5ECF6\",\"gridcolor\":\"white\",\"linecolor\":\"white\",\"showbackground\":true,\"ticks\":\"\",\"zerolinecolor\":\"white\",\"gridwidth\":2},\"yaxis\":{\"backgroundcolor\":\"#E5ECF6\",\"gridcolor\":\"white\",\"linecolor\":\"white\",\"showbackground\":true,\"ticks\":\"\",\"zerolinecolor\":\"white\",\"gridwidth\":2},\"zaxis\":{\"backgroundcolor\":\"#E5ECF6\",\"gridcolor\":\"white\",\"linecolor\":\"white\",\"showbackground\":true,\"ticks\":\"\",\"zerolinecolor\":\"white\",\"gridwidth\":2}},\"shapedefaults\":{\"line\":{\"color\":\"#2a3f5f\"}},\"annotationdefaults\":{\"arrowcolor\":\"#2a3f5f\",\"arrowhead\":0,\"arrowwidth\":1},\"geo\":{\"bgcolor\":\"white\",\"landcolor\":\"#E5ECF6\",\"subunitcolor\":\"white\",\"showland\":true,\"showlakes\":true,\"lakecolor\":\"white\"},\"title\":{\"x\":0.05},\"mapbox\":{\"style\":\"light\"}}},\"xaxis\":{\"anchor\":\"y\",\"domain\":[0.0,1.0],\"title\":{\"text\":\"Installs\"}},\"yaxis\":{\"anchor\":\"x\",\"domain\":[0.0,1.0],\"title\":{\"text\":\"Revenue\"}},\"legend\":{\"title\":{\"text\":\"Category\"},\"tracegroupgap\":0},\"title\":{\"text\":\"Revenue vs Installs (Paid Apps)\"}},                        {\"responsive\": true}                    ).then(function(){\n",
       "                            \n",
       "var gd = document.getElementById('202679a6-1532-40e2-a674-03eda54eee9d');\n",
       "var x = new MutationObserver(function (mutations, observer) {{\n",
       "        var display = window.getComputedStyle(gd).display;\n",
       "        if (!display || display === 'none') {{\n",
       "            console.log([gd, 'removed!']);\n",
       "            Plotly.purge(gd);\n",
       "            observer.disconnect();\n",
       "        }}\n",
       "}});\n",
       "\n",
       "// Listen for the removal of the full notebook cells\n",
       "var notebookContainer = gd.closest('#notebook-container');\n",
       "if (notebookContainer) {{\n",
       "    x.observe(notebookContainer, {childList: true});\n",
       "}}\n",
       "\n",
       "// Listen for the clearing of the current output cell\n",
       "var outputEl = gd.closest('.output');\n",
       "if (outputEl) {{\n",
       "    x.observe(outputEl, {childList: true});\n",
       "}}\n",
       "\n",
       "                        })                };                });            </script>        </div>"
      ]
     },
     "metadata": {},
     "output_type": "display_data"
    },
    {
     "data": {
      "text/plain": [
       "<Figure size 1400x800 with 0 Axes>"
      ]
     },
     "metadata": {},
     "output_type": "display_data"
    }
   ],
   "source": [
    "#scatter plot\n",
    "plt.figure(figsize=(14, 8))\n",
    "sns.set(style=\"whitegrid\")\n",
    "\n",
    "fig1 = px.scatter(\n",
    "    paid_apps ,\n",
    "    x='Installs',\n",
    "    y='Revenue',\n",
    "    color='Category',\n",
    "    title='Revenue vs Installs (Paid Apps)',\n",
    "    trendline=\"ols\"\n",
    ")\n",
    "fig1.show()\n",
    "fig1.write_image(\"images/scatter_plot.png\", format=\"png\")"
   ]
  },
  {
   "cell_type": "markdown",
   "id": "31a56bf8-a0f6-4372-a168-d0af3e2375df",
   "metadata": {},
   "source": [
    "TASK 2"
   ]
  },
  {
   "cell_type": "code",
   "execution_count": 43,
   "id": "4927b365-6a0b-493d-bbfd-514184943a82",
   "metadata": {},
   "outputs": [],
   "source": [
    "from datetime import datetime\n",
    "def is_time_between(start_hour, end_hour):\n",
    "    now = datetime.now().time()\n",
    "    start = datetime.strptime(f\"{start_hour}\", \"%H\").time()\n",
    "    end = datetime.strptime(f\"{end_hour}\", \"%H\").time()\n",
    "    return start <= now <= end"
   ]
  },
  {
   "cell_type": "code",
   "execution_count": 44,
   "id": "edb3da97-6ec3-4553-8ea9-414e5b813ef1",
   "metadata": {},
   "outputs": [],
   "source": [
    "#filtering data\n",
    "filtered_df = app_df[\n",
    "    (app_df['Rating'] >= 4.0) &(app_df['Size'] >= 10) &(app_df['Last Updated'].dt.month == 1)]\n",
    "\n",
    "#grouping \n",
    "category_stats = filtered_df.groupby('Category').agg({'Rating': 'mean','Reviews': 'sum','Installs': 'sum'}).reset_index()\n",
    "top_categories = category_stats.sort_values(by='Installs', ascending=False).head(10)"
   ]
  },
  {
   "cell_type": "code",
   "execution_count": 45,
   "id": "ad8a0eca-fb11-4d76-a854-dbc530b9c046",
   "metadata": {},
   "outputs": [],
   "source": [
    "melted = pd.melt(top_categories,\n",
    "    id_vars='Category',\n",
    "    value_vars=['Rating', 'Reviews'],\n",
    "    var_name='Metric',\n",
    "    value_name='Value'\n",
    ")"
   ]
  },
  {
   "cell_type": "code",
   "execution_count": 63,
   "id": "19653755-ad1b-4bec-b533-efe63b3fac0f",
   "metadata": {},
   "outputs": [
    {
     "name": "stdout",
     "output_type": "stream",
     "text": [
      "Graph can only be seen between 3–5 PM !!!!\n"
     ]
    }
   ],
   "source": [
    "if is_time_between(15, 17):  # 3 PM to 5 PM\n",
    "    grouped['Avg_Rating'] = grouped['Avg_Rating'].astype(float)\n",
    "    grouped['Total_Reviews'] = grouped['Total_Reviews'].astype(float)\n",
    "\n",
    "    fig2 = px.bar(\n",
    "        grouped,\n",
    "        x='Category',\n",
    "        y=['Avg_Rating', 'Total_Reviews'],\n",
    "        barmode='group',\n",
    "        title='Top Categories: Avg Rating & Reviews'\n",
    "    )\n",
    "\n",
    "    fig2.show()\n",
    "\n",
    "else:\n",
    "    print('Graph can only be seen between 3–5 PM !!!!')\n",
    "\n",
    "fig2.write_image(\"images/grouped_piechart.png\",format= \"png\")"
   ]
  },
  {
   "cell_type": "markdown",
   "id": "63533a6b-e153-45b5-b338-ad37cabdff60",
   "metadata": {},
   "source": [
    "TASK 3"
   ]
  },
  {
   "cell_type": "code",
   "execution_count": 56,
   "id": "7952af30-8062-4f65-9522-bdc6094407b2",
   "metadata": {},
   "outputs": [],
   "source": [
    "#correcting datatypes\n",
    "app_df['App'] = app_df['App'].astype(str)\n",
    "app_df['Reviews'] = pd.to_numeric(app_df['Reviews'], errors='coerce')\n",
    "app_df['Rating'] = pd.to_numeric(app_df['Rating'], errors='coerce')\n",
    "app_df['Last Updated'] = pd.to_datetime(app_df['Last Updated'], errors='coerce')\n",
    "\n",
    "filtered_df = app_df[\n",
    "    app_df['App'].str.contains('C', case=False, na=False) &    \n",
    "    (app_df['Reviews'] >= 10) &                                \n",
    "    (app_df['Rating'] < 4.0)                                     \n",
    "]\n",
    "\n",
    "category_counts = filtered_df['Category'].value_counts()\n",
    "valid_categories = category_counts[category_counts > 50].index\n",
    "filtered_df = filtered_df[filtered_df['Category'].isin(valid_categories)]"
   ]
  },
  {
   "cell_type": "code",
   "execution_count": 69,
   "id": "f0abcdc1-f7ab-497f-8111-7599a5f40bef",
   "metadata": {},
   "outputs": [
    {
     "name": "stdout",
     "output_type": "stream",
     "text": [
      "Graph can only be seen between 4–6 PM !!!!\n"
     ]
    }
   ],
   "source": [
    "if is_time_between(16, 18):\n",
    "    \n",
    "    fig3 = px.violin(\n",
    "        violin_df,\n",
    "        x='Category',\n",
    "        y='Rating',\n",
    "        box=True,\n",
    "        points='all',\n",
    "        title='Rating Distribution by Category (Violin Plot)'\n",
    "    )\n",
    "\n",
    "    fig3.show()  \n",
    "    fig3.write_image(\"images/violin_plot.png\") \n",
    "\n",
    "else:\n",
    "    print(\"Graph can only be seen between 4–6 PM !!!!\")"
   ]
  },
  {
   "cell_type": "code",
   "execution_count": 79,
   "id": "00784702-d7f8-49c3-91e5-520175a99b5c",
   "metadata": {},
   "outputs": [],
   "source": [
    "image_folder = \"images\"\n",
    "if not os.path.exists(image_folder):\n",
    "    os.makedirs(image_folder)\n",
    "\n",
    "# Save each plotly figure as PNG\n",
    "def save_plot_as_png(fig, filename):\n",
    "    filepath = os.path.join(image_folder, filename)\n",
    "    fig.write_image(filepath)\n"
   ]
  },
  {
   "cell_type": "code",
   "execution_count": 80,
   "id": "dd813544-d6e4-46e6-954f-0a3c1c1dd92b",
   "metadata": {},
   "outputs": [],
   "source": [
    "plot1_html = fig1.to_html(full_html=False, include_plotlyjs='cdn')  \n",
    "plot2_html = fig2.to_html(full_html=False, include_plotlyjs=False)  \n",
    "plot3_html = fig3.to_html(full_html=False, include_plotlyjs=False)  "
   ]
  },
  {
   "cell_type": "code",
   "execution_count": 87,
   "id": "3056be65-5869-4023-b1b4-2a1781ca5898",
   "metadata": {},
   "outputs": [],
   "source": [
    "dashboard_html = f\"\"\"\n",
    "<!DOCTYPE html>\n",
    "<html>\n",
    "<head>\n",
    "    <title>Playstore Dashboard</title>\n",
    "    <meta charset=\"utf-8\">\n",
    "    <style>\n",
    "        body {{\n",
    "            font-family: Arial, sans-serif;\n",
    "            background-color: #f5f5f5;\n",
    "            padding: 20px;\n",
    "        }}\n",
    "        h1 {{\n",
    "            text-align: center;\n",
    "            margin-bottom: 40px;\n",
    "        }}\n",
    "        .plot-container {{\n",
    "            margin: 30px 0;\n",
    "            background: white;\n",
    "            padding: 20px;\n",
    "            box-shadow: 0 0 10px rgba(0,0,0,0.1);\n",
    "            border-radius: 10px;\n",
    "        }}\n",
    "    </style>\n",
    "</head>\n",
    "<body>\n",
    "    <h1>Interactive Google Playstore Dashboard By Shrista </h1>\n",
    "    <div class=\"plot-container\">{plot1_html}</div>\n",
    "    <div class=\"plot-container\">{plot2_html}</div>\n",
    "    <div class=\"plot-container\">{plot3_html}</div>\n",
    "</body>\n",
    "</html>\n",
    "\"\"\""
   ]
  },
  {
   "cell_type": "code",
   "execution_count": 88,
   "id": "2c51cba2-eef4-4a17-907e-f048e8a46f97",
   "metadata": {},
   "outputs": [],
   "source": [
    "output_file = \"Playstore_Dashboard.html\"\n",
    "with open(output_file, \"w\", encoding=\"utf-8\") as f:\n",
    "    f.write(dashboard_html)"
   ]
  },
  {
   "cell_type": "code",
   "execution_count": 89,
   "id": "86ef0289-3af0-45c3-b7c1-cb1088c2a6dd",
   "metadata": {},
   "outputs": [
    {
     "data": {
      "text/plain": [
       "True"
      ]
     },
     "execution_count": 89,
     "metadata": {},
     "output_type": "execute_result"
    }
   ],
   "source": [
    "webbrowser.open('file://' + os.path.realpath(output_file))"
   ]
  },
  {
   "cell_type": "code",
   "execution_count": null,
   "id": "6705d788-dcfc-44f3-8a8b-4ddce7da91d7",
   "metadata": {},
   "outputs": [],
   "source": []
  }
 ],
 "metadata": {
  "kernelspec": {
   "display_name": "Python 3 (ipykernel)",
   "language": "python",
   "name": "python3"
  },
  "language_info": {
   "codemirror_mode": {
    "name": "ipython",
    "version": 3
   },
   "file_extension": ".py",
   "mimetype": "text/x-python",
   "name": "python",
   "nbconvert_exporter": "python",
   "pygments_lexer": "ipython3",
   "version": "3.12.4"
  }
 },
 "nbformat": 4,
 "nbformat_minor": 5
}
